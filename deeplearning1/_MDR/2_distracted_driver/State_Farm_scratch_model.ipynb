{
 "cells": [
  {
   "cell_type": "markdown",
   "metadata": {},
   "source": [
    "MDR, June 2017, personal study."
   ]
  },
  {
   "cell_type": "markdown",
   "metadata": {},
   "source": [
    "This notebook records a personal learning project, conducted during the Fast.AI course, in which a convnet is taught to ID distracted drivers. The dataset comes from an old Kaggle comp. This is the second experiment, in which I build a CNN from scratch, following the statefarm notebook."
   ]
  },
  {
   "cell_type": "markdown",
   "metadata": {},
   "source": [
    "# Planning"
   ]
  },
  {
   "cell_type": "markdown",
   "metadata": {},
   "source": [
    "This notebook assumes that the data has already been downloaded and organised\n",
    "* setup packages, paths\n",
    "* review the task\n",
    "* set up a simple model\n",
    "    * with batchnorm (not dropout?)\n",
    "* train the network \n",
    "* review the val_acc\n",
    "* assess errors\n",
    "* try additional techniques for improving the accuracy, reducing overfitting\n",
    "    * data augmentation\n",
    "    * ensembling\n",
    "* submit to Kaggle    "
   ]
  },
  {
   "cell_type": "markdown",
   "metadata": {
    "ExecuteTime": {
     "end_time": "2017-06-03T08:23:02.266474Z",
     "start_time": "2017-06-03T08:23:02.261149Z"
    }
   },
   "source": [
    "# Setup (every session)"
   ]
  },
  {
   "cell_type": "markdown",
   "metadata": {},
   "source": [
    "## Import packages (every new session)"
   ]
  },
  {
   "cell_type": "markdown",
   "metadata": {},
   "source": [
    "<strong> N.B. </strong> You may need to ensure that the files...<strong>\n",
    "* 'utils.py' (by fast.ai), \n",
    "* 'vgg16.py' (adapted by fast.ai?), and\n",
    "* 'vgg16bn' </strong>\n",
    "...are findable by python - e.g. present in the root of the current directory."
   ]
  },
  {
   "cell_type": "code",
   "execution_count": 1,
   "metadata": {
    "ExecuteTime": {
     "end_time": "2017-06-04T20:52:25.356415Z",
     "start_time": "2017-06-04T20:52:25.215278Z"
    },
    "collapsed": true
   },
   "outputs": [],
   "source": [
    "%matplotlib inline\n",
    "import numpy as np\n",
    "import os"
   ]
  },
  {
   "cell_type": "code",
   "execution_count": 2,
   "metadata": {
    "ExecuteTime": {
     "end_time": "2017-06-04T20:52:27.940318Z",
     "start_time": "2017-06-04T20:52:26.001954Z"
    }
   },
   "outputs": [
    {
     "name": "stderr",
     "output_type": "stream",
     "text": [
      "WARNING (theano.sandbox.cuda): The cuda backend is deprecated and will be removed in the next release (v0.10).  Please switch to the gpuarray backend. You can get more information about how to switch at this URL:\n",
      " https://github.com/Theano/Theano/wiki/Converting-to-the-new-gpu-back-end%28gpuarray%29\n",
      "\n",
      "Using gpu device 0: GeForce GTX 1070 (CNMeM is disabled, cuDNN 5110)\n",
      "Using Theano backend.\n"
     ]
    }
   ],
   "source": [
    "import utils\n",
    "from utils import *\n",
    "#from imp import reload  # fixes a P2-P3 incompatibility\n",
    "#reload(utils)"
   ]
  },
  {
   "cell_type": "markdown",
   "metadata": {
    "ExecuteTime": {
     "end_time": "2017-05-02T17:42:02.441225Z",
     "start_time": "2017-05-02T17:42:02.433091Z"
    }
   },
   "source": [
    "A function for checking for a folder name and creating one if needed."
   ]
  },
  {
   "cell_type": "code",
   "execution_count": 3,
   "metadata": {
    "ExecuteTime": {
     "end_time": "2017-06-04T20:52:29.655403Z",
     "start_time": "2017-06-04T20:52:29.649859Z"
    },
    "collapsed": true
   },
   "outputs": [],
   "source": [
    "import errno\n",
    "\n",
    "def make_sure_path_exists(path):\n",
    "    try:\n",
    "        os.makedirs(path)\n",
    "    except OSError as exception:\n",
    "        if exception.errno != errno.EEXIST:\n",
    "            raise"
   ]
  },
  {
   "cell_type": "markdown",
   "metadata": {},
   "source": [
    "## Set up the path variables"
   ]
  },
  {
   "cell_type": "markdown",
   "metadata": {},
   "source": [
    "<strong>DO re-run these cells, too...</strong>"
   ]
  },
  {
   "cell_type": "code",
   "execution_count": 5,
   "metadata": {
    "ExecuteTime": {
     "end_time": "2017-06-04T20:53:23.473863Z",
     "start_time": "2017-06-04T20:53:23.467973Z"
    }
   },
   "outputs": [
    {
     "name": "stdout",
     "output_type": "stream",
     "text": [
      "  /home/mark/Study/dl.fast.ai/deeplearning1/_MDR/2_distracted_driver \n",
      "  /home/mark/Study/dl.fast.ai/deeplearning1/_MDR/2_distracted_driver/data\n"
     ]
    }
   ],
   "source": [
    "current_dir = os.getcwd()\n",
    "HOME_DIR = current_dir\n",
    "DATA_HOME_DIR = current_dir + '/data'\n",
    "print(' ', HOME_DIR, '\\n ', DATA_HOME_DIR)"
   ]
  },
  {
   "cell_type": "markdown",
   "metadata": {},
   "source": [
    "This relative approach to folder referencing also works..."
   ]
  },
  {
   "cell_type": "code",
   "execution_count": 6,
   "metadata": {
    "ExecuteTime": {
     "end_time": "2017-06-04T20:53:24.808449Z",
     "start_time": "2017-06-04T20:53:24.688834Z"
    }
   },
   "outputs": [
    {
     "name": "stdout",
     "output_type": "stream",
     "text": [
      "driver_imgs_list.csv      \u001b[0m\u001b[01;34mresults\u001b[0m/                   \u001b[01;34mtest\u001b[0m/      \u001b[01;34mvalid\u001b[0m/\r\n",
      "\u001b[01;31mdriver_imgs_list.csv.zip\u001b[0m  \u001b[01;34msample\u001b[0m/                    \u001b[01;34mtrain\u001b[0m/\r\n",
      "\u001b[01;31mimgs.zip\u001b[0m                  \u001b[01;31msample_submission.csv.zip\u001b[0m  \u001b[01;34munzipped\u001b[0m/\r\n"
     ]
    }
   ],
   "source": [
    "all_data_path = \"data/\"\n",
    "sampled_path = all_data_path + \"sample\"\n",
    "test_path = all_data_path + \"test\"\n",
    "\n",
    "# The following allows for easy switching...\n",
    "data_path = all_data_path   \n",
    "#data_path = sampled_path      \n",
    "\n",
    "%ls $all_data_path"
   ]
  },
  {
   "cell_type": "markdown",
   "metadata": {},
   "source": [
    "# Review the task and data"
   ]
  },
  {
   "cell_type": "markdown",
   "metadata": {
    "heading_collapsed": true
   },
   "source": [
    "## The task"
   ]
  },
  {
   "cell_type": "markdown",
   "metadata": {
    "hidden": true
   },
   "source": [
    "Quoted from the Kaggle data page: "
   ]
  },
  {
   "cell_type": "markdown",
   "metadata": {
    "hidden": true
   },
   "source": [
    "<blockquote>In this competition you are given driver images, each taken in a car with a driver doing something in the car (texting, eating, talking on the phone, makeup, reaching behind, etc). Your goal is to predict the likelihood of what the driver is doing in each picture. \n",
    "\n",
    "The 10 classes to predict are:\n",
    "\n",
    "    c0: safe driving\n",
    "    c1: texting - right\n",
    "    c2: talking on the phone - right\n",
    "    c3: texting - left\n",
    "    c4: talking on the phone - left\n",
    "    c5: operating the radio\n",
    "    c6: drinking\n",
    "    c7: reaching behind\n",
    "    c8: hair and makeup\n",
    "    c9: talking to passenger\n",
    "\n",
    "To ensure that this is a computer vision problem, we have removed metadata such as creation dates. The train and test data are split on the drivers, such that one driver can only appear on either train or test set. \n",
    "\n",
    "To discourage hand labeling, <strong>we have supplemented the test dataset with some images that are resized. These processed images are ignored and don't count towards your score.</strong>\n",
    "</blockquote>\n",
    "File descriptions\n",
    "\n",
    "    imgs.zip - zipped folder of all (train/test) images\n",
    "    sample_submission.csv - a sample submission file in the correct format\n",
    "    driver_imgs_list.csv - a list of training images, their subject (driver) id, and class id"
   ]
  },
  {
   "cell_type": "code",
   "execution_count": 73,
   "metadata": {
    "ExecuteTime": {
     "end_time": "2017-05-15T21:37:55.909060Z",
     "start_time": "2017-05-15T21:37:55.782800Z"
    },
    "hidden": true
   },
   "outputs": [
    {
     "name": "stdout",
     "output_type": "stream",
     "text": [
      "total 4203272\r\n",
      "-rw-r--r--  1 mark mark     491359 Apr  7  2016 driver_imgs_list.csv\r\n",
      "-rw-rw-r--  1 mark mark      95118 May  6 09:41 \u001b[0m\u001b[01;31mdriver_imgs_list.csv.zip\u001b[0m\r\n",
      "-rw-rw-r--  1 mark mark 4292669227 May  6 09:41 \u001b[01;31mimgs.zip\u001b[0m\r\n",
      "drwxrwxr-x  4 mark mark       4096 May 14 22:08 \u001b[01;34mresults\u001b[0m/\r\n",
      "drwxrwxr-x  5 mark mark       4096 May  9 21:09 \u001b[01;34msample\u001b[0m/\r\n",
      "-rw-rw-r--  1 mark mark     211199 May  6 09:18 \u001b[01;31msample_submission.csv.zip\u001b[0m\r\n",
      "drwxr-xr-x  3 mark mark   10620928 May 14 21:32 \u001b[01;34mtest\u001b[0m/\r\n",
      "drwxr-xr-x 12 mark mark       4096 May  7 22:04 \u001b[01;34mtrain\u001b[0m/\r\n",
      "drwxrwxr-x  2 mark mark       4096 May 13 09:23 \u001b[01;34munzipped\u001b[0m/\r\n",
      "drwxrwxr-x 12 mark mark       4096 May 11 22:08 \u001b[01;34mvalid\u001b[0m/\r\n"
     ]
    }
   ],
   "source": [
    "%ls -l $all_data_path"
   ]
  },
  {
   "cell_type": "markdown",
   "metadata": {
    "heading_collapsed": true
   },
   "source": [
    "## Import and inspect the class data (as a data frame)"
   ]
  },
  {
   "cell_type": "code",
   "execution_count": 6,
   "metadata": {
    "ExecuteTime": {
     "end_time": "2017-06-04T07:51:39.611694Z",
     "start_time": "2017-06-04T07:51:39.582026Z"
    },
    "hidden": true
   },
   "outputs": [
    {
     "ename": "NameError",
     "evalue": "name 'class_file_path' is not defined",
     "output_type": "error",
     "traceback": [
      "\u001b[0;31m---------------------------------------------------------------------------\u001b[0m",
      "\u001b[0;31mNameError\u001b[0m                                 Traceback (most recent call last)",
      "\u001b[0;32m<ipython-input-6-e59066ee3358>\u001b[0m in \u001b[0;36m<module>\u001b[0;34m()\u001b[0m\n\u001b[1;32m      1\u001b[0m \u001b[0;32mimport\u001b[0m \u001b[0mpandas\u001b[0m \u001b[0;32mas\u001b[0m \u001b[0mpd\u001b[0m\u001b[0;34m\u001b[0m\u001b[0m\n\u001b[0;32m----> 2\u001b[0;31m \u001b[0mimages_df\u001b[0m \u001b[0;34m=\u001b[0m \u001b[0mpd\u001b[0m\u001b[0;34m.\u001b[0m\u001b[0mread_csv\u001b[0m\u001b[0;34m(\u001b[0m\u001b[0mclass_file_path\u001b[0m\u001b[0;34m,\u001b[0m \u001b[0msep\u001b[0m\u001b[0;34m=\u001b[0m\u001b[0;34m','\u001b[0m\u001b[0;34m)\u001b[0m\u001b[0;34m\u001b[0m\u001b[0m\n\u001b[0m",
      "\u001b[0;31mNameError\u001b[0m: name 'class_file_path' is not defined"
     ]
    }
   ],
   "source": [
    "import pandas as pd\n",
    "images_df = pd.read_csv(class_file_path, sep=',')"
   ]
  },
  {
   "cell_type": "code",
   "execution_count": 10,
   "metadata": {
    "ExecuteTime": {
     "end_time": "2017-05-20T12:50:34.452011Z",
     "start_time": "2017-05-20T12:50:34.443327Z"
    },
    "hidden": true
   },
   "outputs": [
    {
     "name": "stdout",
     "output_type": "stream",
     "text": [
      "(22424, 3)\n",
      "Index(['subject', 'classname', 'img'], dtype='object')\n"
     ]
    }
   ],
   "source": [
    "print(images_df.shape)\n",
    "print(images_df.columns)"
   ]
  },
  {
   "cell_type": "markdown",
   "metadata": {
    "hidden": true
   },
   "source": [
    "List unique values - classes."
   ]
  },
  {
   "cell_type": "code",
   "execution_count": 11,
   "metadata": {
    "ExecuteTime": {
     "end_time": "2017-05-20T12:50:37.413031Z",
     "start_time": "2017-05-20T12:50:37.401924Z"
    },
    "hidden": true
   },
   "outputs": [
    {
     "data": {
      "text/plain": [
       "array(['c0', 'c1', 'c2', 'c3', 'c4', 'c5', 'c6', 'c7', 'c8', 'c9'], dtype=object)"
      ]
     },
     "execution_count": 11,
     "metadata": {},
     "output_type": "execute_result"
    }
   ],
   "source": [
    "#List unique values in the df['name'] column\n",
    "images_df.classname.unique()"
   ]
  },
  {
   "cell_type": "markdown",
   "metadata": {
    "hidden": true
   },
   "source": [
    "... and drivers ..."
   ]
  },
  {
   "cell_type": "code",
   "execution_count": 12,
   "metadata": {
    "ExecuteTime": {
     "end_time": "2017-05-20T12:50:39.222479Z",
     "start_time": "2017-05-20T12:50:39.215816Z"
    },
    "hidden": true
   },
   "outputs": [
    {
     "name": "stdout",
     "output_type": "stream",
     "text": [
      "26\n",
      "['p002', 'p012', 'p014', 'p015', 'p016', 'p021', 'p022', 'p024', 'p026', 'p035', 'p039', 'p041', 'p042', 'p045', 'p047', 'p049', 'p050', 'p051', 'p052', 'p056', 'p061', 'p064', 'p066', 'p072', 'p075', 'p081']\n"
     ]
    }
   ],
   "source": [
    "l = len(images_df.subject.unique())          ; print(l)\n",
    "s = sorted(list(images_df.subject.unique())) ; print(s)"
   ]
  },
  {
   "cell_type": "markdown",
   "metadata": {
    "hidden": true
   },
   "source": [
    "This suggests that - to achieve an 80/20 split between test and validation - we'd have to select 5 drivers to move into the 'valid' set. We'll store this list of drivers for use when we build the valid directory. "
   ]
  },
  {
   "cell_type": "code",
   "execution_count": 13,
   "metadata": {
    "ExecuteTime": {
     "end_time": "2017-05-20T12:50:41.025345Z",
     "start_time": "2017-05-20T12:50:41.019096Z"
    },
    "hidden": true
   },
   "outputs": [
    {
     "name": "stdout",
     "output_type": "stream",
     "text": [
      "5\n",
      "['p064', 'p066', 'p072', 'p075', 'p081']\n"
     ]
    }
   ],
   "source": [
    "v = int(l * .2) ; print(v)\n",
    "valid_subj = s[-v:]\n",
    "print(valid_subj)"
   ]
  },
  {
   "cell_type": "markdown",
   "metadata": {
    "heading_collapsed": true
   },
   "source": [
    "## Check the directory structure"
   ]
  },
  {
   "cell_type": "markdown",
   "metadata": {
    "hidden": true
   },
   "source": [
    "Let's check that against the directory structure of the unzipped images (imgs)."
   ]
  },
  {
   "cell_type": "code",
   "execution_count": 14,
   "metadata": {
    "ExecuteTime": {
     "end_time": "2017-05-15T20:37:44.309396Z",
     "start_time": "2017-05-15T20:37:44.190005Z"
    },
    "hidden": true
   },
   "outputs": [
    {
     "name": "stdout",
     "output_type": "stream",
     "text": [
      "\u001b[01;34mdata/unzipped\u001b[00m\r\n",
      "\r\n",
      "0 directories\r\n"
     ]
    }
   ],
   "source": [
    "!tree -d $all_data_path/unzipped"
   ]
  },
  {
   "cell_type": "markdown",
   "metadata": {
    "hidden": true
   },
   "source": [
    "Q: How many training images are there, across all 10 classes? A: 22,424 images"
   ]
  },
  {
   "cell_type": "code",
   "execution_count": 16,
   "metadata": {
    "ExecuteTime": {
     "end_time": "2017-05-11T20:13:11.292628Z",
     "start_time": "2017-05-11T20:13:11.006448Z"
    },
    "collapsed": true,
    "hidden": true
   },
   "outputs": [
    {
     "name": "stdout",
     "output_type": "stream",
     "text": [
      "data/train/**/*.jpg\n",
      "22424\n"
     ]
    },
    {
     "data": {
      "text/plain": [
       "['data/train/c8/img_22971.jpg',\n",
       " 'data/train/c8/img_76367.jpg',\n",
       " 'data/train/c8/img_25239.jpg',\n",
       " 'data/train/c8/img_23496.jpg',\n",
       " 'data/train/c8/img_44057.jpg',\n",
       " 'data/train/c8/img_70207.jpg',\n",
       " 'data/train/c8/img_47484.jpg',\n",
       " 'data/train/c8/img_72616.jpg',\n",
       " 'data/train/c8/img_63477.jpg',\n",
       " 'data/train/c8/img_93136.jpg',\n",
       " 'data/train/c8/img_37289.jpg',\n",
       " 'data/train/c8/img_98495.jpg',\n",
       " 'data/train/c8/img_5355.jpg',\n",
       " 'data/train/c8/img_26813.jpg',\n",
       " 'data/train/c8/img_56050.jpg',\n",
       " 'data/train/c8/img_8631.jpg',\n",
       " 'data/train/c8/img_18910.jpg',\n",
       " 'data/train/c8/img_14072.jpg',\n",
       " 'data/train/c8/img_56207.jpg',\n",
       " 'data/train/c8/img_74098.jpg',\n",
       " 'data/train/c8/img_101737.jpg',\n",
       " 'data/train/c8/img_100480.jpg',\n",
       " 'data/train/c8/img_43109.jpg',\n",
       " 'data/train/c8/img_76691.jpg',\n",
       " 'data/train/c8/img_88573.jpg',\n",
       " 'data/train/c8/img_88803.jpg',\n",
       " 'data/train/c8/img_17506.jpg',\n",
       " 'data/train/c8/img_28833.jpg',\n",
       " 'data/train/c8/img_37131.jpg',\n",
       " 'data/train/c8/img_55033.jpg',\n",
       " 'data/train/c8/img_27663.jpg',\n",
       " 'data/train/c8/img_101814.jpg',\n",
       " 'data/train/c8/img_85299.jpg',\n",
       " 'data/train/c8/img_20212.jpg',\n",
       " 'data/train/c8/img_84399.jpg',\n",
       " 'data/train/c8/img_29907.jpg',\n",
       " 'data/train/c8/img_28517.jpg',\n",
       " 'data/train/c8/img_4232.jpg',\n",
       " 'data/train/c8/img_86145.jpg',\n",
       " 'data/train/c8/img_43730.jpg',\n",
       " 'data/train/c8/img_31409.jpg',\n",
       " 'data/train/c8/img_66162.jpg',\n",
       " 'data/train/c8/img_22941.jpg',\n",
       " 'data/train/c8/img_1540.jpg',\n",
       " 'data/train/c8/img_45868.jpg',\n",
       " 'data/train/c8/img_63216.jpg',\n",
       " 'data/train/c8/img_15331.jpg',\n",
       " 'data/train/c8/img_67093.jpg',\n",
       " 'data/train/c8/img_77515.jpg',\n",
       " 'data/train/c8/img_77015.jpg',\n",
       " 'data/train/c8/img_56484.jpg',\n",
       " 'data/train/c8/img_1973.jpg',\n",
       " 'data/train/c8/img_48174.jpg',\n",
       " 'data/train/c8/img_86447.jpg',\n",
       " 'data/train/c8/img_52914.jpg',\n",
       " 'data/train/c8/img_101751.jpg',\n",
       " 'data/train/c8/img_39081.jpg',\n",
       " 'data/train/c8/img_15441.jpg',\n",
       " 'data/train/c8/img_20708.jpg',\n",
       " 'data/train/c8/img_27671.jpg',\n",
       " 'data/train/c8/img_67095.jpg',\n",
       " 'data/train/c8/img_87515.jpg',\n",
       " 'data/train/c8/img_92985.jpg',\n",
       " 'data/train/c8/img_5474.jpg',\n",
       " 'data/train/c8/img_35863.jpg',\n",
       " 'data/train/c8/img_51140.jpg',\n",
       " 'data/train/c8/img_76450.jpg',\n",
       " 'data/train/c8/img_75090.jpg',\n",
       " 'data/train/c8/img_75413.jpg',\n",
       " 'data/train/c8/img_49335.jpg',\n",
       " 'data/train/c8/img_68187.jpg',\n",
       " 'data/train/c8/img_6628.jpg',\n",
       " 'data/train/c8/img_96734.jpg',\n",
       " 'data/train/c8/img_23854.jpg',\n",
       " 'data/train/c8/img_21258.jpg',\n",
       " 'data/train/c8/img_62210.jpg',\n",
       " 'data/train/c8/img_10352.jpg',\n",
       " 'data/train/c8/img_44946.jpg',\n",
       " 'data/train/c8/img_9464.jpg',\n",
       " 'data/train/c8/img_4823.jpg',\n",
       " 'data/train/c8/img_25530.jpg',\n",
       " 'data/train/c8/img_24889.jpg',\n",
       " 'data/train/c8/img_7325.jpg',\n",
       " 'data/train/c8/img_6289.jpg',\n",
       " 'data/train/c8/img_65842.jpg',\n",
       " 'data/train/c8/img_66733.jpg',\n",
       " 'data/train/c8/img_2464.jpg',\n",
       " 'data/train/c8/img_51981.jpg',\n",
       " 'data/train/c8/img_23655.jpg',\n",
       " 'data/train/c8/img_29028.jpg',\n",
       " 'data/train/c8/img_78496.jpg',\n",
       " 'data/train/c8/img_64415.jpg',\n",
       " 'data/train/c8/img_92534.jpg',\n",
       " 'data/train/c8/img_86836.jpg',\n",
       " 'data/train/c8/img_29432.jpg',\n",
       " 'data/train/c8/img_35831.jpg',\n",
       " 'data/train/c8/img_671.jpg',\n",
       " 'data/train/c8/img_35086.jpg',\n",
       " 'data/train/c8/img_82784.jpg',\n",
       " 'data/train/c8/img_21070.jpg',\n",
       " 'data/train/c8/img_50401.jpg',\n",
       " 'data/train/c8/img_82587.jpg',\n",
       " 'data/train/c8/img_76964.jpg',\n",
       " 'data/train/c8/img_69119.jpg',\n",
       " 'data/train/c8/img_68147.jpg',\n",
       " 'data/train/c8/img_77051.jpg',\n",
       " 'data/train/c8/img_95038.jpg',\n",
       " 'data/train/c8/img_54710.jpg',\n",
       " 'data/train/c8/img_25156.jpg',\n",
       " 'data/train/c8/img_58070.jpg',\n",
       " 'data/train/c8/img_31139.jpg',\n",
       " 'data/train/c8/img_90109.jpg',\n",
       " 'data/train/c8/img_31319.jpg',\n",
       " 'data/train/c8/img_35035.jpg',\n",
       " 'data/train/c8/img_10361.jpg',\n",
       " 'data/train/c8/img_74145.jpg',\n",
       " 'data/train/c8/img_28755.jpg',\n",
       " 'data/train/c8/img_53436.jpg',\n",
       " 'data/train/c8/img_97477.jpg',\n",
       " 'data/train/c8/img_15160.jpg',\n",
       " 'data/train/c8/img_69278.jpg',\n",
       " 'data/train/c8/img_4409.jpg',\n",
       " 'data/train/c8/img_66705.jpg',\n",
       " 'data/train/c8/img_96763.jpg',\n",
       " 'data/train/c8/img_86546.jpg',\n",
       " 'data/train/c8/img_80725.jpg',\n",
       " 'data/train/c8/img_78081.jpg',\n",
       " 'data/train/c8/img_25010.jpg',\n",
       " 'data/train/c8/img_46580.jpg',\n",
       " 'data/train/c8/img_91555.jpg',\n",
       " 'data/train/c8/img_64028.jpg',\n",
       " 'data/train/c8/img_86353.jpg',\n",
       " 'data/train/c8/img_89839.jpg',\n",
       " 'data/train/c8/img_80930.jpg',\n",
       " 'data/train/c8/img_39640.jpg',\n",
       " 'data/train/c8/img_45480.jpg',\n",
       " 'data/train/c8/img_98292.jpg',\n",
       " 'data/train/c8/img_87262.jpg',\n",
       " 'data/train/c8/img_38649.jpg',\n",
       " 'data/train/c8/img_24684.jpg',\n",
       " 'data/train/c8/img_48387.jpg',\n",
       " 'data/train/c8/img_86490.jpg',\n",
       " 'data/train/c8/img_85692.jpg',\n",
       " 'data/train/c8/img_95399.jpg',\n",
       " 'data/train/c8/img_68431.jpg',\n",
       " 'data/train/c8/img_22999.jpg',\n",
       " 'data/train/c8/img_14814.jpg',\n",
       " 'data/train/c8/img_99693.jpg',\n",
       " 'data/train/c8/img_64191.jpg',\n",
       " 'data/train/c8/img_16874.jpg',\n",
       " 'data/train/c8/img_59760.jpg',\n",
       " 'data/train/c8/img_7887.jpg',\n",
       " 'data/train/c8/img_85605.jpg',\n",
       " 'data/train/c8/img_57611.jpg',\n",
       " 'data/train/c8/img_29031.jpg',\n",
       " 'data/train/c8/img_32976.jpg',\n",
       " 'data/train/c8/img_13647.jpg',\n",
       " 'data/train/c8/img_56767.jpg',\n",
       " 'data/train/c8/img_77709.jpg',\n",
       " 'data/train/c8/img_7139.jpg',\n",
       " 'data/train/c8/img_83024.jpg',\n",
       " 'data/train/c8/img_51986.jpg',\n",
       " 'data/train/c8/img_94489.jpg',\n",
       " 'data/train/c8/img_59301.jpg',\n",
       " 'data/train/c8/img_48712.jpg',\n",
       " 'data/train/c8/img_36908.jpg',\n",
       " 'data/train/c8/img_70488.jpg',\n",
       " 'data/train/c8/img_75893.jpg',\n",
       " 'data/train/c8/img_92151.jpg',\n",
       " 'data/train/c8/img_63759.jpg',\n",
       " 'data/train/c8/img_45725.jpg',\n",
       " 'data/train/c8/img_20639.jpg',\n",
       " 'data/train/c8/img_68838.jpg',\n",
       " 'data/train/c8/img_91893.jpg',\n",
       " 'data/train/c8/img_50461.jpg',\n",
       " 'data/train/c8/img_82951.jpg',\n",
       " 'data/train/c8/img_83277.jpg',\n",
       " 'data/train/c8/img_35250.jpg',\n",
       " 'data/train/c8/img_7514.jpg',\n",
       " 'data/train/c8/img_89208.jpg',\n",
       " 'data/train/c8/img_42085.jpg',\n",
       " 'data/train/c8/img_17661.jpg',\n",
       " 'data/train/c8/img_86015.jpg',\n",
       " 'data/train/c8/img_94081.jpg',\n",
       " 'data/train/c8/img_9128.jpg',\n",
       " 'data/train/c8/img_56891.jpg',\n",
       " 'data/train/c8/img_33794.jpg',\n",
       " 'data/train/c8/img_50684.jpg',\n",
       " 'data/train/c8/img_1808.jpg',\n",
       " 'data/train/c8/img_24354.jpg',\n",
       " 'data/train/c8/img_20614.jpg',\n",
       " 'data/train/c8/img_37864.jpg',\n",
       " 'data/train/c8/img_36813.jpg',\n",
       " 'data/train/c8/img_18454.jpg',\n",
       " 'data/train/c8/img_33934.jpg',\n",
       " 'data/train/c8/img_35337.jpg',\n",
       " 'data/train/c8/img_4853.jpg',\n",
       " 'data/train/c8/img_31338.jpg',\n",
       " 'data/train/c8/img_25738.jpg',\n",
       " 'data/train/c8/img_80919.jpg',\n",
       " 'data/train/c8/img_41659.jpg',\n",
       " 'data/train/c8/img_6680.jpg',\n",
       " 'data/train/c8/img_93469.jpg',\n",
       " 'data/train/c8/img_22463.jpg',\n",
       " 'data/train/c8/img_97587.jpg',\n",
       " 'data/train/c8/img_68491.jpg',\n",
       " 'data/train/c8/img_100787.jpg',\n",
       " 'data/train/c8/img_57135.jpg',\n",
       " 'data/train/c8/img_5377.jpg',\n",
       " 'data/train/c8/img_44430.jpg',\n",
       " 'data/train/c8/img_7935.jpg',\n",
       " 'data/train/c8/img_17167.jpg',\n",
       " 'data/train/c8/img_69290.jpg',\n",
       " 'data/train/c8/img_55008.jpg',\n",
       " 'data/train/c8/img_13868.jpg',\n",
       " 'data/train/c8/img_32199.jpg',\n",
       " 'data/train/c8/img_16321.jpg',\n",
       " 'data/train/c8/img_97774.jpg',\n",
       " 'data/train/c8/img_26801.jpg',\n",
       " 'data/train/c8/img_34916.jpg',\n",
       " 'data/train/c8/img_4809.jpg',\n",
       " 'data/train/c8/img_22684.jpg',\n",
       " 'data/train/c8/img_19399.jpg',\n",
       " 'data/train/c8/img_50700.jpg',\n",
       " 'data/train/c8/img_71576.jpg',\n",
       " 'data/train/c8/img_95880.jpg',\n",
       " 'data/train/c8/img_70752.jpg',\n",
       " 'data/train/c8/img_34235.jpg',\n",
       " 'data/train/c8/img_19616.jpg',\n",
       " 'data/train/c8/img_99596.jpg',\n",
       " 'data/train/c8/img_94544.jpg',\n",
       " 'data/train/c8/img_87552.jpg',\n",
       " 'data/train/c8/img_84837.jpg',\n",
       " 'data/train/c8/img_11472.jpg',\n",
       " 'data/train/c8/img_56078.jpg',\n",
       " 'data/train/c8/img_49411.jpg',\n",
       " 'data/train/c8/img_89591.jpg',\n",
       " 'data/train/c8/img_40632.jpg',\n",
       " 'data/train/c8/img_49353.jpg',\n",
       " 'data/train/c8/img_17897.jpg',\n",
       " 'data/train/c8/img_61587.jpg',\n",
       " 'data/train/c8/img_17273.jpg',\n",
       " 'data/train/c8/img_101096.jpg',\n",
       " 'data/train/c8/img_26115.jpg',\n",
       " 'data/train/c8/img_20475.jpg',\n",
       " 'data/train/c8/img_52404.jpg',\n",
       " 'data/train/c8/img_94215.jpg',\n",
       " 'data/train/c8/img_97904.jpg',\n",
       " 'data/train/c8/img_41440.jpg',\n",
       " 'data/train/c8/img_34328.jpg',\n",
       " 'data/train/c8/img_77481.jpg',\n",
       " 'data/train/c8/img_15203.jpg',\n",
       " 'data/train/c8/img_46117.jpg',\n",
       " 'data/train/c8/img_23002.jpg',\n",
       " 'data/train/c8/img_77225.jpg',\n",
       " 'data/train/c8/img_69730.jpg',\n",
       " 'data/train/c8/img_59098.jpg',\n",
       " 'data/train/c8/img_87593.jpg',\n",
       " 'data/train/c8/img_11357.jpg',\n",
       " 'data/train/c8/img_62221.jpg',\n",
       " 'data/train/c8/img_3471.jpg',\n",
       " 'data/train/c8/img_31795.jpg',\n",
       " 'data/train/c8/img_2009.jpg',\n",
       " 'data/train/c8/img_85931.jpg',\n",
       " 'data/train/c8/img_8860.jpg',\n",
       " 'data/train/c8/img_91046.jpg',\n",
       " 'data/train/c8/img_40249.jpg',\n",
       " 'data/train/c8/img_22421.jpg',\n",
       " 'data/train/c8/img_76212.jpg',\n",
       " 'data/train/c8/img_63251.jpg',\n",
       " 'data/train/c8/img_58983.jpg',\n",
       " 'data/train/c8/img_87249.jpg',\n",
       " 'data/train/c8/img_32509.jpg',\n",
       " 'data/train/c8/img_34788.jpg',\n",
       " 'data/train/c8/img_68820.jpg',\n",
       " 'data/train/c8/img_74520.jpg',\n",
       " 'data/train/c8/img_54016.jpg',\n",
       " 'data/train/c8/img_19665.jpg',\n",
       " 'data/train/c8/img_23269.jpg',\n",
       " 'data/train/c8/img_88398.jpg',\n",
       " 'data/train/c8/img_2378.jpg',\n",
       " 'data/train/c8/img_25969.jpg',\n",
       " 'data/train/c8/img_12535.jpg',\n",
       " 'data/train/c8/img_7167.jpg',\n",
       " 'data/train/c8/img_73618.jpg',\n",
       " 'data/train/c8/img_100814.jpg',\n",
       " 'data/train/c8/img_46264.jpg',\n",
       " 'data/train/c8/img_79203.jpg',\n",
       " 'data/train/c8/img_54657.jpg',\n",
       " 'data/train/c8/img_20041.jpg',\n",
       " 'data/train/c8/img_18354.jpg',\n",
       " 'data/train/c8/img_93848.jpg',\n",
       " 'data/train/c8/img_87156.jpg',\n",
       " 'data/train/c8/img_23948.jpg',\n",
       " 'data/train/c8/img_17280.jpg',\n",
       " 'data/train/c8/img_99709.jpg',\n",
       " 'data/train/c8/img_100235.jpg',\n",
       " 'data/train/c8/img_89462.jpg',\n",
       " 'data/train/c8/img_49179.jpg',\n",
       " 'data/train/c8/img_46871.jpg',\n",
       " 'data/train/c8/img_10650.jpg',\n",
       " 'data/train/c8/img_50150.jpg',\n",
       " 'data/train/c8/img_88749.jpg',\n",
       " 'data/train/c8/img_91700.jpg',\n",
       " 'data/train/c8/img_11324.jpg',\n",
       " 'data/train/c8/img_14159.jpg',\n",
       " 'data/train/c8/img_78925.jpg',\n",
       " 'data/train/c8/img_4520.jpg',\n",
       " 'data/train/c8/img_26819.jpg',\n",
       " 'data/train/c8/img_70836.jpg',\n",
       " 'data/train/c8/img_51189.jpg',\n",
       " 'data/train/c8/img_7757.jpg',\n",
       " 'data/train/c8/img_40069.jpg',\n",
       " 'data/train/c8/img_5003.jpg',\n",
       " 'data/train/c8/img_5365.jpg',\n",
       " 'data/train/c8/img_7905.jpg',\n",
       " 'data/train/c8/img_68365.jpg',\n",
       " 'data/train/c8/img_28206.jpg',\n",
       " 'data/train/c8/img_50660.jpg',\n",
       " 'data/train/c8/img_45021.jpg',\n",
       " 'data/train/c8/img_58793.jpg',\n",
       " 'data/train/c8/img_48752.jpg',\n",
       " 'data/train/c8/img_99262.jpg',\n",
       " 'data/train/c8/img_61128.jpg',\n",
       " 'data/train/c8/img_35212.jpg',\n",
       " 'data/train/c8/img_60684.jpg',\n",
       " 'data/train/c8/img_20265.jpg',\n",
       " 'data/train/c8/img_10147.jpg',\n",
       " 'data/train/c8/img_89787.jpg',\n",
       " 'data/train/c8/img_95215.jpg',\n",
       " 'data/train/c8/img_82621.jpg',\n",
       " 'data/train/c8/img_247.jpg',\n",
       " 'data/train/c8/img_51103.jpg',\n",
       " 'data/train/c8/img_9282.jpg',\n",
       " 'data/train/c8/img_36126.jpg',\n",
       " 'data/train/c8/img_11702.jpg',\n",
       " 'data/train/c8/img_62076.jpg',\n",
       " 'data/train/c8/img_50664.jpg',\n",
       " 'data/train/c8/img_8652.jpg',\n",
       " 'data/train/c8/img_35293.jpg',\n",
       " 'data/train/c8/img_59923.jpg',\n",
       " 'data/train/c8/img_56372.jpg',\n",
       " 'data/train/c8/img_35367.jpg',\n",
       " 'data/train/c8/img_95148.jpg',\n",
       " 'data/train/c8/img_75475.jpg',\n",
       " 'data/train/c8/img_82142.jpg',\n",
       " 'data/train/c8/img_25470.jpg',\n",
       " 'data/train/c8/img_43680.jpg',\n",
       " 'data/train/c8/img_86842.jpg',\n",
       " 'data/train/c8/img_41153.jpg',\n",
       " 'data/train/c8/img_71835.jpg',\n",
       " 'data/train/c8/img_66741.jpg',\n",
       " 'data/train/c8/img_83468.jpg',\n",
       " 'data/train/c8/img_52003.jpg',\n",
       " 'data/train/c8/img_59353.jpg',\n",
       " 'data/train/c8/img_62133.jpg',\n",
       " 'data/train/c8/img_57685.jpg',\n",
       " 'data/train/c8/img_57804.jpg',\n",
       " 'data/train/c8/img_54379.jpg',\n",
       " 'data/train/c8/img_28169.jpg',\n",
       " 'data/train/c8/img_4384.jpg',\n",
       " 'data/train/c8/img_99344.jpg',\n",
       " 'data/train/c8/img_24378.jpg',\n",
       " 'data/train/c8/img_2362.jpg',\n",
       " 'data/train/c8/img_19078.jpg',\n",
       " 'data/train/c8/img_84719.jpg',\n",
       " 'data/train/c8/img_28131.jpg',\n",
       " 'data/train/c8/img_48403.jpg',\n",
       " 'data/train/c8/img_59999.jpg',\n",
       " 'data/train/c8/img_90703.jpg',\n",
       " 'data/train/c8/img_96623.jpg',\n",
       " 'data/train/c8/img_26378.jpg',\n",
       " 'data/train/c8/img_44870.jpg',\n",
       " 'data/train/c8/img_9596.jpg',\n",
       " 'data/train/c8/img_69406.jpg',\n",
       " 'data/train/c8/img_59882.jpg',\n",
       " 'data/train/c8/img_79889.jpg',\n",
       " 'data/train/c8/img_88994.jpg',\n",
       " 'data/train/c8/img_68389.jpg',\n",
       " 'data/train/c8/img_15914.jpg',\n",
       " 'data/train/c8/img_102106.jpg',\n",
       " 'data/train/c8/img_58226.jpg',\n",
       " 'data/train/c8/img_8219.jpg',\n",
       " 'data/train/c8/img_76640.jpg',\n",
       " 'data/train/c8/img_28549.jpg',\n",
       " 'data/train/c8/img_51605.jpg',\n",
       " 'data/train/c8/img_41812.jpg',\n",
       " 'data/train/c8/img_75188.jpg',\n",
       " 'data/train/c8/img_83330.jpg',\n",
       " 'data/train/c8/img_100846.jpg',\n",
       " 'data/train/c8/img_85744.jpg',\n",
       " 'data/train/c8/img_46154.jpg',\n",
       " 'data/train/c8/img_17480.jpg',\n",
       " 'data/train/c8/img_86786.jpg',\n",
       " 'data/train/c8/img_101973.jpg',\n",
       " 'data/train/c8/img_83931.jpg',\n",
       " 'data/train/c8/img_86286.jpg',\n",
       " 'data/train/c8/img_91124.jpg',\n",
       " 'data/train/c8/img_81097.jpg',\n",
       " 'data/train/c8/img_798.jpg',\n",
       " 'data/train/c8/img_10359.jpg',\n",
       " 'data/train/c8/img_12025.jpg',\n",
       " 'data/train/c8/img_50220.jpg',\n",
       " 'data/train/c8/img_5921.jpg',\n",
       " 'data/train/c8/img_49247.jpg',\n",
       " 'data/train/c8/img_39261.jpg',\n",
       " 'data/train/c8/img_52383.jpg',\n",
       " 'data/train/c8/img_84337.jpg',\n",
       " 'data/train/c8/img_4734.jpg',\n",
       " 'data/train/c8/img_7999.jpg',\n",
       " 'data/train/c8/img_34329.jpg',\n",
       " 'data/train/c8/img_48430.jpg',\n",
       " 'data/train/c8/img_59176.jpg',\n",
       " 'data/train/c8/img_40911.jpg',\n",
       " 'data/train/c8/img_33277.jpg',\n",
       " 'data/train/c8/img_74406.jpg',\n",
       " 'data/train/c8/img_67544.jpg',\n",
       " 'data/train/c8/img_48976.jpg',\n",
       " 'data/train/c8/img_95446.jpg',\n",
       " 'data/train/c8/img_88675.jpg',\n",
       " 'data/train/c8/img_79537.jpg',\n",
       " 'data/train/c8/img_72317.jpg',\n",
       " 'data/train/c8/img_101034.jpg',\n",
       " 'data/train/c8/img_32172.jpg',\n",
       " 'data/train/c8/img_97558.jpg',\n",
       " 'data/train/c8/img_83892.jpg',\n",
       " 'data/train/c8/img_12635.jpg',\n",
       " 'data/train/c8/img_35130.jpg',\n",
       " 'data/train/c8/img_70748.jpg',\n",
       " 'data/train/c8/img_9649.jpg',\n",
       " 'data/train/c8/img_48710.jpg',\n",
       " 'data/train/c8/img_79177.jpg',\n",
       " 'data/train/c8/img_27337.jpg',\n",
       " 'data/train/c8/img_75335.jpg',\n",
       " 'data/train/c8/img_2494.jpg',\n",
       " 'data/train/c8/img_74193.jpg',\n",
       " 'data/train/c8/img_19798.jpg',\n",
       " 'data/train/c8/img_58640.jpg',\n",
       " 'data/train/c8/img_20962.jpg',\n",
       " 'data/train/c8/img_7181.jpg',\n",
       " 'data/train/c8/img_63083.jpg',\n",
       " 'data/train/c8/img_24927.jpg',\n",
       " 'data/train/c8/img_81077.jpg',\n",
       " 'data/train/c8/img_67177.jpg',\n",
       " 'data/train/c8/img_72387.jpg',\n",
       " 'data/train/c8/img_78677.jpg',\n",
       " 'data/train/c8/img_28593.jpg',\n",
       " 'data/train/c8/img_99160.jpg',\n",
       " 'data/train/c8/img_76882.jpg',\n",
       " 'data/train/c8/img_96702.jpg',\n",
       " 'data/train/c8/img_74831.jpg',\n",
       " 'data/train/c8/img_82701.jpg',\n",
       " 'data/train/c8/img_28079.jpg',\n",
       " 'data/train/c8/img_70997.jpg',\n",
       " 'data/train/c8/img_93006.jpg',\n",
       " 'data/train/c8/img_29095.jpg',\n",
       " 'data/train/c8/img_30621.jpg',\n",
       " 'data/train/c8/img_88508.jpg',\n",
       " 'data/train/c8/img_1842.jpg',\n",
       " 'data/train/c8/img_100850.jpg',\n",
       " 'data/train/c8/img_76073.jpg',\n",
       " 'data/train/c8/img_42327.jpg',\n",
       " 'data/train/c8/img_19909.jpg',\n",
       " 'data/train/c8/img_52950.jpg',\n",
       " 'data/train/c8/img_74065.jpg',\n",
       " 'data/train/c8/img_79385.jpg',\n",
       " 'data/train/c8/img_95770.jpg',\n",
       " 'data/train/c8/img_89028.jpg',\n",
       " 'data/train/c8/img_36367.jpg',\n",
       " 'data/train/c8/img_86819.jpg',\n",
       " 'data/train/c8/img_4207.jpg',\n",
       " 'data/train/c8/img_27683.jpg',\n",
       " 'data/train/c8/img_96547.jpg',\n",
       " 'data/train/c8/img_92546.jpg',\n",
       " 'data/train/c8/img_13387.jpg',\n",
       " 'data/train/c8/img_59666.jpg',\n",
       " 'data/train/c8/img_5160.jpg',\n",
       " 'data/train/c8/img_8735.jpg',\n",
       " 'data/train/c8/img_28747.jpg',\n",
       " 'data/train/c8/img_80432.jpg',\n",
       " 'data/train/c8/img_12041.jpg',\n",
       " 'data/train/c8/img_51051.jpg',\n",
       " 'data/train/c8/img_52484.jpg',\n",
       " 'data/train/c8/img_43496.jpg',\n",
       " 'data/train/c8/img_57724.jpg',\n",
       " 'data/train/c8/img_52140.jpg',\n",
       " 'data/train/c8/img_71059.jpg',\n",
       " 'data/train/c8/img_34889.jpg',\n",
       " 'data/train/c8/img_3371.jpg',\n",
       " 'data/train/c8/img_32789.jpg',\n",
       " 'data/train/c8/img_10706.jpg',\n",
       " 'data/train/c8/img_68094.jpg',\n",
       " 'data/train/c8/img_57030.jpg',\n",
       " 'data/train/c8/img_100976.jpg',\n",
       " 'data/train/c8/img_895.jpg',\n",
       " 'data/train/c8/img_34370.jpg',\n",
       " 'data/train/c8/img_18790.jpg',\n",
       " 'data/train/c8/img_59400.jpg',\n",
       " 'data/train/c8/img_100791.jpg',\n",
       " 'data/train/c8/img_52997.jpg',\n",
       " 'data/train/c8/img_5538.jpg',\n",
       " 'data/train/c8/img_91029.jpg',\n",
       " 'data/train/c8/img_36526.jpg',\n",
       " 'data/train/c8/img_58956.jpg',\n",
       " 'data/train/c8/img_82366.jpg',\n",
       " 'data/train/c8/img_7188.jpg',\n",
       " 'data/train/c8/img_40554.jpg',\n",
       " 'data/train/c8/img_47790.jpg',\n",
       " 'data/train/c8/img_95436.jpg',\n",
       " 'data/train/c8/img_29908.jpg',\n",
       " 'data/train/c8/img_10199.jpg',\n",
       " 'data/train/c8/img_70664.jpg',\n",
       " 'data/train/c8/img_48231.jpg',\n",
       " 'data/train/c8/img_98882.jpg',\n",
       " 'data/train/c8/img_65519.jpg',\n",
       " 'data/train/c8/img_92263.jpg',\n",
       " 'data/train/c8/img_32089.jpg',\n",
       " 'data/train/c8/img_41149.jpg',\n",
       " 'data/train/c8/img_77385.jpg',\n",
       " 'data/train/c8/img_36658.jpg',\n",
       " 'data/train/c8/img_78465.jpg',\n",
       " 'data/train/c8/img_93499.jpg',\n",
       " 'data/train/c8/img_63867.jpg',\n",
       " 'data/train/c8/img_20770.jpg',\n",
       " 'data/train/c8/img_57232.jpg',\n",
       " 'data/train/c8/img_65976.jpg',\n",
       " 'data/train/c8/img_8759.jpg',\n",
       " 'data/train/c8/img_86493.jpg',\n",
       " 'data/train/c8/img_43230.jpg',\n",
       " 'data/train/c8/img_91228.jpg',\n",
       " 'data/train/c8/img_30425.jpg',\n",
       " 'data/train/c8/img_11182.jpg',\n",
       " 'data/train/c8/img_100735.jpg',\n",
       " 'data/train/c8/img_49772.jpg',\n",
       " 'data/train/c8/img_47271.jpg',\n",
       " 'data/train/c8/img_39068.jpg',\n",
       " 'data/train/c8/img_94630.jpg',\n",
       " 'data/train/c8/img_36109.jpg',\n",
       " 'data/train/c8/img_8658.jpg',\n",
       " 'data/train/c8/img_40874.jpg',\n",
       " 'data/train/c8/img_86037.jpg',\n",
       " 'data/train/c8/img_30638.jpg',\n",
       " 'data/train/c8/img_58218.jpg',\n",
       " 'data/train/c8/img_44416.jpg',\n",
       " 'data/train/c8/img_16728.jpg',\n",
       " 'data/train/c8/img_31101.jpg',\n",
       " 'data/train/c8/img_1062.jpg',\n",
       " 'data/train/c8/img_95290.jpg',\n",
       " 'data/train/c8/img_102095.jpg',\n",
       " 'data/train/c8/img_34783.jpg',\n",
       " 'data/train/c8/img_6117.jpg',\n",
       " 'data/train/c8/img_53839.jpg',\n",
       " 'data/train/c8/img_59130.jpg',\n",
       " 'data/train/c8/img_19450.jpg',\n",
       " 'data/train/c8/img_42704.jpg',\n",
       " 'data/train/c8/img_56991.jpg',\n",
       " 'data/train/c8/img_88458.jpg',\n",
       " 'data/train/c8/img_85742.jpg',\n",
       " 'data/train/c8/img_67820.jpg',\n",
       " 'data/train/c8/img_50224.jpg',\n",
       " 'data/train/c8/img_22805.jpg',\n",
       " 'data/train/c8/img_65562.jpg',\n",
       " 'data/train/c8/img_90873.jpg',\n",
       " 'data/train/c8/img_32914.jpg',\n",
       " 'data/train/c8/img_75654.jpg',\n",
       " 'data/train/c8/img_16820.jpg',\n",
       " 'data/train/c8/img_98810.jpg',\n",
       " 'data/train/c8/img_60467.jpg',\n",
       " 'data/train/c8/img_8649.jpg',\n",
       " 'data/train/c8/img_65016.jpg',\n",
       " 'data/train/c8/img_19530.jpg',\n",
       " 'data/train/c8/img_98568.jpg',\n",
       " 'data/train/c8/img_69584.jpg',\n",
       " 'data/train/c8/img_12485.jpg',\n",
       " 'data/train/c8/img_57199.jpg',\n",
       " 'data/train/c8/img_75351.jpg',\n",
       " 'data/train/c8/img_36371.jpg',\n",
       " 'data/train/c8/img_61610.jpg',\n",
       " 'data/train/c8/img_100368.jpg',\n",
       " 'data/train/c8/img_75545.jpg',\n",
       " 'data/train/c8/img_22133.jpg',\n",
       " 'data/train/c8/img_47469.jpg',\n",
       " 'data/train/c8/img_72630.jpg',\n",
       " 'data/train/c8/img_62126.jpg',\n",
       " 'data/train/c8/img_15381.jpg',\n",
       " 'data/train/c8/img_90242.jpg',\n",
       " 'data/train/c8/img_39467.jpg',\n",
       " 'data/train/c8/img_90621.jpg',\n",
       " 'data/train/c8/img_34176.jpg',\n",
       " 'data/train/c8/img_77901.jpg',\n",
       " 'data/train/c8/img_45869.jpg',\n",
       " 'data/train/c8/img_55795.jpg',\n",
       " 'data/train/c8/img_28537.jpg',\n",
       " 'data/train/c8/img_48517.jpg',\n",
       " 'data/train/c8/img_79514.jpg',\n",
       " 'data/train/c8/img_6916.jpg',\n",
       " 'data/train/c8/img_72072.jpg',\n",
       " 'data/train/c8/img_75572.jpg',\n",
       " 'data/train/c8/img_1338.jpg',\n",
       " 'data/train/c8/img_41546.jpg',\n",
       " 'data/train/c8/img_98681.jpg',\n",
       " 'data/train/c8/img_54303.jpg',\n",
       " 'data/train/c8/img_41462.jpg',\n",
       " 'data/train/c8/img_51467.jpg',\n",
       " 'data/train/c8/img_82047.jpg',\n",
       " 'data/train/c8/img_71404.jpg',\n",
       " 'data/train/c8/img_75915.jpg',\n",
       " 'data/train/c8/img_7056.jpg',\n",
       " 'data/train/c8/img_27314.jpg',\n",
       " 'data/train/c8/img_91565.jpg',\n",
       " 'data/train/c8/img_23721.jpg',\n",
       " 'data/train/c8/img_73931.jpg',\n",
       " 'data/train/c8/img_82020.jpg',\n",
       " 'data/train/c8/img_24481.jpg',\n",
       " 'data/train/c8/img_47167.jpg',\n",
       " 'data/train/c8/img_11769.jpg',\n",
       " 'data/train/c8/img_12575.jpg',\n",
       " 'data/train/c8/img_23365.jpg',\n",
       " 'data/train/c8/img_65563.jpg',\n",
       " 'data/train/c8/img_24647.jpg',\n",
       " 'data/train/c8/img_50668.jpg',\n",
       " 'data/train/c8/img_68849.jpg',\n",
       " 'data/train/c8/img_74133.jpg',\n",
       " 'data/train/c8/img_62702.jpg',\n",
       " 'data/train/c8/img_73702.jpg',\n",
       " 'data/train/c8/img_85516.jpg',\n",
       " 'data/train/c8/img_72641.jpg',\n",
       " 'data/train/c8/img_75428.jpg',\n",
       " 'data/train/c8/img_8547.jpg',\n",
       " 'data/train/c8/img_92543.jpg',\n",
       " 'data/train/c8/img_58162.jpg',\n",
       " 'data/train/c8/img_11339.jpg',\n",
       " 'data/train/c8/img_67682.jpg',\n",
       " 'data/train/c8/img_23737.jpg',\n",
       " 'data/train/c8/img_36411.jpg',\n",
       " 'data/train/c8/img_7974.jpg',\n",
       " 'data/train/c8/img_57619.jpg',\n",
       " 'data/train/c8/img_44369.jpg',\n",
       " 'data/train/c8/img_64091.jpg',\n",
       " 'data/train/c8/img_18970.jpg',\n",
       " 'data/train/c8/img_27544.jpg',\n",
       " 'data/train/c8/img_34728.jpg',\n",
       " 'data/train/c8/img_75161.jpg',\n",
       " 'data/train/c8/img_84414.jpg',\n",
       " 'data/train/c8/img_26265.jpg',\n",
       " 'data/train/c8/img_69333.jpg',\n",
       " 'data/train/c8/img_26400.jpg',\n",
       " 'data/train/c8/img_26772.jpg',\n",
       " 'data/train/c8/img_76845.jpg',\n",
       " 'data/train/c8/img_13213.jpg',\n",
       " 'data/train/c8/img_90151.jpg',\n",
       " 'data/train/c8/img_96566.jpg',\n",
       " 'data/train/c8/img_47986.jpg',\n",
       " 'data/train/c8/img_85990.jpg',\n",
       " 'data/train/c8/img_13505.jpg',\n",
       " 'data/train/c8/img_80048.jpg',\n",
       " 'data/train/c8/img_52947.jpg',\n",
       " 'data/train/c8/img_70956.jpg',\n",
       " 'data/train/c8/img_76082.jpg',\n",
       " 'data/train/c8/img_18817.jpg',\n",
       " 'data/train/c8/img_11924.jpg',\n",
       " 'data/train/c8/img_32349.jpg',\n",
       " 'data/train/c8/img_57525.jpg',\n",
       " 'data/train/c8/img_94297.jpg',\n",
       " 'data/train/c8/img_92021.jpg',\n",
       " 'data/train/c8/img_43521.jpg',\n",
       " 'data/train/c8/img_51539.jpg',\n",
       " 'data/train/c8/img_10273.jpg',\n",
       " 'data/train/c8/img_97733.jpg',\n",
       " 'data/train/c8/img_57737.jpg',\n",
       " 'data/train/c8/img_44267.jpg',\n",
       " 'data/train/c8/img_59260.jpg',\n",
       " 'data/train/c8/img_34109.jpg',\n",
       " 'data/train/c8/img_37479.jpg',\n",
       " 'data/train/c8/img_7932.jpg',\n",
       " 'data/train/c8/img_49457.jpg',\n",
       " 'data/train/c8/img_29553.jpg',\n",
       " 'data/train/c8/img_90126.jpg',\n",
       " 'data/train/c8/img_90786.jpg',\n",
       " 'data/train/c8/img_13480.jpg',\n",
       " 'data/train/c8/img_23521.jpg',\n",
       " 'data/train/c8/img_41757.jpg',\n",
       " 'data/train/c8/img_85996.jpg',\n",
       " 'data/train/c8/img_7128.jpg',\n",
       " 'data/train/c8/img_91096.jpg',\n",
       " 'data/train/c8/img_10080.jpg',\n",
       " 'data/train/c8/img_43569.jpg',\n",
       " 'data/train/c8/img_64367.jpg',\n",
       " 'data/train/c8/img_95736.jpg',\n",
       " 'data/train/c8/img_11508.jpg',\n",
       " 'data/train/c8/img_9581.jpg',\n",
       " 'data/train/c8/img_11417.jpg',\n",
       " 'data/train/c8/img_64987.jpg',\n",
       " 'data/train/c8/img_26130.jpg',\n",
       " 'data/train/c8/img_6374.jpg',\n",
       " 'data/train/c8/img_88202.jpg',\n",
       " 'data/train/c8/img_83361.jpg',\n",
       " 'data/train/c8/img_94413.jpg',\n",
       " 'data/train/c8/img_23776.jpg',\n",
       " 'data/train/c8/img_72814.jpg',\n",
       " 'data/train/c8/img_6399.jpg',\n",
       " 'data/train/c8/img_92372.jpg',\n",
       " 'data/train/c8/img_78749.jpg',\n",
       " 'data/train/c8/img_50325.jpg',\n",
       " 'data/train/c8/img_5978.jpg',\n",
       " 'data/train/c8/img_21182.jpg',\n",
       " 'data/train/c8/img_59872.jpg',\n",
       " 'data/train/c8/img_25438.jpg',\n",
       " 'data/train/c8/img_12358.jpg',\n",
       " 'data/train/c8/img_78799.jpg',\n",
       " 'data/train/c8/img_8431.jpg',\n",
       " 'data/train/c8/img_39929.jpg',\n",
       " 'data/train/c8/img_39194.jpg',\n",
       " 'data/train/c8/img_96819.jpg',\n",
       " 'data/train/c8/img_75735.jpg',\n",
       " 'data/train/c8/img_46259.jpg',\n",
       " 'data/train/c8/img_43411.jpg',\n",
       " 'data/train/c8/img_90536.jpg',\n",
       " 'data/train/c8/img_54199.jpg',\n",
       " 'data/train/c8/img_29381.jpg',\n",
       " 'data/train/c8/img_72684.jpg',\n",
       " 'data/train/c8/img_67207.jpg',\n",
       " 'data/train/c8/img_90567.jpg',\n",
       " 'data/train/c8/img_38109.jpg',\n",
       " 'data/train/c8/img_85625.jpg',\n",
       " 'data/train/c8/img_15408.jpg',\n",
       " 'data/train/c8/img_11798.jpg',\n",
       " 'data/train/c8/img_15244.jpg',\n",
       " 'data/train/c8/img_78438.jpg',\n",
       " 'data/train/c8/img_3131.jpg',\n",
       " 'data/train/c8/img_63579.jpg',\n",
       " 'data/train/c8/img_37003.jpg',\n",
       " 'data/train/c8/img_28231.jpg',\n",
       " 'data/train/c8/img_31951.jpg',\n",
       " 'data/train/c8/img_47709.jpg',\n",
       " 'data/train/c8/img_24834.jpg',\n",
       " 'data/train/c8/img_12704.jpg',\n",
       " 'data/train/c8/img_99577.jpg',\n",
       " 'data/train/c8/img_86528.jpg',\n",
       " 'data/train/c8/img_81850.jpg',\n",
       " 'data/train/c8/img_35237.jpg',\n",
       " 'data/train/c8/img_80083.jpg',\n",
       " 'data/train/c8/img_90239.jpg',\n",
       " 'data/train/c8/img_54567.jpg',\n",
       " 'data/train/c8/img_31158.jpg',\n",
       " 'data/train/c8/img_67527.jpg',\n",
       " 'data/train/c8/img_75427.jpg',\n",
       " 'data/train/c8/img_102047.jpg',\n",
       " 'data/train/c8/img_57014.jpg',\n",
       " 'data/train/c8/img_48621.jpg',\n",
       " 'data/train/c8/img_2902.jpg',\n",
       " 'data/train/c8/img_39422.jpg',\n",
       " 'data/train/c8/img_2409.jpg',\n",
       " 'data/train/c8/img_77599.jpg',\n",
       " 'data/train/c8/img_91792.jpg',\n",
       " 'data/train/c8/img_46663.jpg',\n",
       " 'data/train/c8/img_89648.jpg',\n",
       " 'data/train/c8/img_75937.jpg',\n",
       " 'data/train/c8/img_48897.jpg',\n",
       " 'data/train/c8/img_81314.jpg',\n",
       " 'data/train/c8/img_69491.jpg',\n",
       " 'data/train/c8/img_96683.jpg',\n",
       " 'data/train/c8/img_91289.jpg',\n",
       " 'data/train/c8/img_99982.jpg',\n",
       " 'data/train/c8/img_79148.jpg',\n",
       " 'data/train/c8/img_48213.jpg',\n",
       " 'data/train/c8/img_32768.jpg',\n",
       " 'data/train/c8/img_11990.jpg',\n",
       " 'data/train/c8/img_86899.jpg',\n",
       " 'data/train/c8/img_3149.jpg',\n",
       " 'data/train/c8/img_21087.jpg',\n",
       " 'data/train/c8/img_28340.jpg',\n",
       " 'data/train/c8/img_64291.jpg',\n",
       " 'data/train/c8/img_50348.jpg',\n",
       " 'data/train/c8/img_28224.jpg',\n",
       " 'data/train/c8/img_74910.jpg',\n",
       " 'data/train/c8/img_66070.jpg',\n",
       " 'data/train/c8/img_3967.jpg',\n",
       " 'data/train/c8/img_58907.jpg',\n",
       " 'data/train/c8/img_99438.jpg',\n",
       " 'data/train/c8/img_20780.jpg',\n",
       " 'data/train/c8/img_81710.jpg',\n",
       " 'data/train/c8/img_76717.jpg',\n",
       " 'data/train/c8/img_75770.jpg',\n",
       " 'data/train/c8/img_24040.jpg',\n",
       " 'data/train/c8/img_50033.jpg',\n",
       " 'data/train/c8/img_25660.jpg',\n",
       " 'data/train/c8/img_35959.jpg',\n",
       " 'data/train/c8/img_79307.jpg',\n",
       " 'data/train/c8/img_57400.jpg',\n",
       " 'data/train/c8/img_90746.jpg',\n",
       " 'data/train/c8/img_83156.jpg',\n",
       " 'data/train/c8/img_10867.jpg',\n",
       " 'data/train/c8/img_93942.jpg',\n",
       " 'data/train/c8/img_92391.jpg',\n",
       " 'data/train/c8/img_51222.jpg',\n",
       " 'data/train/c8/img_2832.jpg',\n",
       " 'data/train/c8/img_49471.jpg',\n",
       " 'data/train/c8/img_93212.jpg',\n",
       " 'data/train/c8/img_88266.jpg',\n",
       " 'data/train/c8/img_13807.jpg',\n",
       " 'data/train/c8/img_35144.jpg',\n",
       " 'data/train/c8/img_48605.jpg',\n",
       " 'data/train/c8/img_6970.jpg',\n",
       " 'data/train/c8/img_88877.jpg',\n",
       " 'data/train/c8/img_52847.jpg',\n",
       " 'data/train/c8/img_46758.jpg',\n",
       " 'data/train/c8/img_64759.jpg',\n",
       " 'data/train/c8/img_26763.jpg',\n",
       " 'data/train/c8/img_48859.jpg',\n",
       " 'data/train/c8/img_85352.jpg',\n",
       " 'data/train/c8/img_96586.jpg',\n",
       " 'data/train/c8/img_81654.jpg',\n",
       " 'data/train/c8/img_44407.jpg',\n",
       " 'data/train/c8/img_95193.jpg',\n",
       " 'data/train/c8/img_13465.jpg',\n",
       " 'data/train/c8/img_16283.jpg',\n",
       " 'data/train/c8/img_27991.jpg',\n",
       " 'data/train/c8/img_101984.jpg',\n",
       " 'data/train/c8/img_77484.jpg',\n",
       " 'data/train/c8/img_89464.jpg',\n",
       " 'data/train/c8/img_52386.jpg',\n",
       " 'data/train/c8/img_70560.jpg',\n",
       " 'data/train/c8/img_26585.jpg',\n",
       " 'data/train/c8/img_44088.jpg',\n",
       " 'data/train/c8/img_30760.jpg',\n",
       " 'data/train/c8/img_66306.jpg',\n",
       " 'data/train/c8/img_70050.jpg',\n",
       " 'data/train/c8/img_29002.jpg',\n",
       " 'data/train/c8/img_41152.jpg',\n",
       " 'data/train/c8/img_19204.jpg',\n",
       " 'data/train/c8/img_63453.jpg',\n",
       " 'data/train/c8/img_35460.jpg',\n",
       " 'data/train/c8/img_81916.jpg',\n",
       " 'data/train/c8/img_23011.jpg',\n",
       " 'data/train/c8/img_18476.jpg',\n",
       " 'data/train/c8/img_97010.jpg',\n",
       " 'data/train/c8/img_25081.jpg',\n",
       " 'data/train/c8/img_12294.jpg',\n",
       " 'data/train/c8/img_29627.jpg',\n",
       " 'data/train/c8/img_85945.jpg',\n",
       " 'data/train/c8/img_16143.jpg',\n",
       " 'data/train/c8/img_46910.jpg',\n",
       " 'data/train/c8/img_5430.jpg',\n",
       " 'data/train/c8/img_20676.jpg',\n",
       " 'data/train/c8/img_102005.jpg',\n",
       " 'data/train/c8/img_43861.jpg',\n",
       " 'data/train/c8/img_16114.jpg',\n",
       " 'data/train/c8/img_92690.jpg',\n",
       " 'data/train/c8/img_19585.jpg',\n",
       " 'data/train/c8/img_100816.jpg',\n",
       " 'data/train/c8/img_13438.jpg',\n",
       " 'data/train/c8/img_72778.jpg',\n",
       " 'data/train/c8/img_28664.jpg',\n",
       " 'data/train/c8/img_21946.jpg',\n",
       " 'data/train/c8/img_92054.jpg',\n",
       " 'data/train/c8/img_101367.jpg',\n",
       " 'data/train/c8/img_86824.jpg',\n",
       " 'data/train/c8/img_7287.jpg',\n",
       " 'data/train/c8/img_93552.jpg',\n",
       " 'data/train/c8/img_99869.jpg',\n",
       " 'data/train/c8/img_67067.jpg',\n",
       " 'data/train/c8/img_30792.jpg',\n",
       " 'data/train/c8/img_97952.jpg',\n",
       " 'data/train/c8/img_15437.jpg',\n",
       " 'data/train/c8/img_72229.jpg',\n",
       " 'data/train/c8/img_70539.jpg',\n",
       " 'data/train/c8/img_101229.jpg',\n",
       " 'data/train/c8/img_47652.jpg',\n",
       " 'data/train/c8/img_39039.jpg',\n",
       " 'data/train/c8/img_64914.jpg',\n",
       " 'data/train/c8/img_89739.jpg',\n",
       " 'data/train/c8/img_87738.jpg',\n",
       " 'data/train/c8/img_6600.jpg',\n",
       " 'data/train/c8/img_47890.jpg',\n",
       " 'data/train/c8/img_19224.jpg',\n",
       " 'data/train/c8/img_41461.jpg',\n",
       " 'data/train/c8/img_15918.jpg',\n",
       " 'data/train/c8/img_3632.jpg',\n",
       " 'data/train/c8/img_3948.jpg',\n",
       " 'data/train/c8/img_11529.jpg',\n",
       " 'data/train/c8/img_97910.jpg',\n",
       " 'data/train/c8/img_52162.jpg',\n",
       " 'data/train/c8/img_20728.jpg',\n",
       " 'data/train/c8/img_96028.jpg',\n",
       " 'data/train/c8/img_9449.jpg',\n",
       " 'data/train/c8/img_56616.jpg',\n",
       " 'data/train/c8/img_46712.jpg',\n",
       " 'data/train/c8/img_76663.jpg',\n",
       " 'data/train/c8/img_76714.jpg',\n",
       " 'data/train/c8/img_58700.jpg',\n",
       " 'data/train/c8/img_52567.jpg',\n",
       " 'data/train/c8/img_16529.jpg',\n",
       " 'data/train/c8/img_75474.jpg',\n",
       " 'data/train/c8/img_32672.jpg',\n",
       " 'data/train/c8/img_21663.jpg',\n",
       " 'data/train/c8/img_15878.jpg',\n",
       " 'data/train/c8/img_53812.jpg',\n",
       " 'data/train/c8/img_94016.jpg',\n",
       " 'data/train/c8/img_67360.jpg',\n",
       " 'data/train/c8/img_51392.jpg',\n",
       " 'data/train/c8/img_26896.jpg',\n",
       " 'data/train/c8/img_44652.jpg',\n",
       " 'data/train/c8/img_36898.jpg',\n",
       " 'data/train/c8/img_18737.jpg',\n",
       " 'data/train/c8/img_26454.jpg',\n",
       " 'data/train/c8/img_4238.jpg',\n",
       " 'data/train/c8/img_33071.jpg',\n",
       " 'data/train/c8/img_63438.jpg',\n",
       " 'data/train/c8/img_26672.jpg',\n",
       " 'data/train/c8/img_73629.jpg',\n",
       " 'data/train/c8/img_27146.jpg',\n",
       " 'data/train/c8/img_23170.jpg',\n",
       " 'data/train/c8/img_90894.jpg',\n",
       " 'data/train/c8/img_76358.jpg',\n",
       " 'data/train/c8/img_93860.jpg',\n",
       " 'data/train/c8/img_85043.jpg',\n",
       " 'data/train/c8/img_54660.jpg',\n",
       " 'data/train/c8/img_33479.jpg',\n",
       " 'data/train/c8/img_88674.jpg',\n",
       " 'data/train/c8/img_50196.jpg',\n",
       " 'data/train/c8/img_12069.jpg',\n",
       " 'data/train/c8/img_47390.jpg',\n",
       " 'data/train/c8/img_96565.jpg',\n",
       " 'data/train/c8/img_42899.jpg',\n",
       " 'data/train/c8/img_11896.jpg',\n",
       " 'data/train/c8/img_69590.jpg',\n",
       " 'data/train/c8/img_50865.jpg',\n",
       " 'data/train/c8/img_14402.jpg',\n",
       " 'data/train/c8/img_100715.jpg',\n",
       " 'data/train/c8/img_36833.jpg',\n",
       " 'data/train/c8/img_92262.jpg',\n",
       " 'data/train/c8/img_46830.jpg',\n",
       " 'data/train/c8/img_67447.jpg',\n",
       " 'data/train/c8/img_44710.jpg',\n",
       " 'data/train/c8/img_47801.jpg',\n",
       " 'data/train/c8/img_81770.jpg',\n",
       " 'data/train/c8/img_26143.jpg',\n",
       " 'data/train/c8/img_46716.jpg',\n",
       " 'data/train/c8/img_50462.jpg',\n",
       " 'data/train/c8/img_89556.jpg',\n",
       " 'data/train/c8/img_41429.jpg',\n",
       " 'data/train/c8/img_60384.jpg',\n",
       " 'data/train/c8/img_82536.jpg',\n",
       " 'data/train/c8/img_38121.jpg',\n",
       " 'data/train/c8/img_37519.jpg',\n",
       " 'data/train/c8/img_61550.jpg',\n",
       " 'data/train/c8/img_50570.jpg',\n",
       " 'data/train/c8/img_65947.jpg',\n",
       " 'data/train/c8/img_88106.jpg',\n",
       " 'data/train/c8/img_26381.jpg',\n",
       " 'data/train/c8/img_48627.jpg',\n",
       " 'data/train/c8/img_75673.jpg',\n",
       " 'data/train/c8/img_90486.jpg',\n",
       " 'data/train/c8/img_1493.jpg',\n",
       " 'data/train/c8/img_58137.jpg',\n",
       " 'data/train/c8/img_77428.jpg',\n",
       " 'data/train/c8/img_33499.jpg',\n",
       " 'data/train/c8/img_9499.jpg',\n",
       " 'data/train/c8/img_61599.jpg',\n",
       " 'data/train/c8/img_73484.jpg',\n",
       " 'data/train/c8/img_47117.jpg',\n",
       " 'data/train/c8/img_9212.jpg',\n",
       " 'data/train/c8/img_84602.jpg',\n",
       " 'data/train/c8/img_36882.jpg',\n",
       " 'data/train/c8/img_97731.jpg',\n",
       " 'data/train/c8/img_70019.jpg',\n",
       " 'data/train/c8/img_9104.jpg',\n",
       " 'data/train/c8/img_28854.jpg',\n",
       " 'data/train/c8/img_7559.jpg',\n",
       " 'data/train/c8/img_46920.jpg',\n",
       " 'data/train/c8/img_84449.jpg',\n",
       " 'data/train/c8/img_24529.jpg',\n",
       " 'data/train/c8/img_68387.jpg',\n",
       " 'data/train/c8/img_72343.jpg',\n",
       " 'data/train/c8/img_32145.jpg',\n",
       " 'data/train/c8/img_56543.jpg',\n",
       " 'data/train/c8/img_80528.jpg',\n",
       " 'data/train/c8/img_6462.jpg',\n",
       " 'data/train/c8/img_40284.jpg',\n",
       " 'data/train/c8/img_97122.jpg',\n",
       " 'data/train/c8/img_24754.jpg',\n",
       " 'data/train/c8/img_89588.jpg',\n",
       " 'data/train/c8/img_22194.jpg',\n",
       " 'data/train/c8/img_35435.jpg',\n",
       " 'data/train/c8/img_97624.jpg',\n",
       " 'data/train/c8/img_93577.jpg',\n",
       " 'data/train/c8/img_19323.jpg',\n",
       " 'data/train/c8/img_87982.jpg',\n",
       " 'data/train/c8/img_87278.jpg',\n",
       " 'data/train/c8/img_90349.jpg',\n",
       " 'data/train/c8/img_11557.jpg',\n",
       " 'data/train/c8/img_43441.jpg',\n",
       " 'data/train/c8/img_64193.jpg',\n",
       " 'data/train/c8/img_62613.jpg',\n",
       " 'data/train/c8/img_83735.jpg',\n",
       " 'data/train/c8/img_9792.jpg',\n",
       " 'data/train/c8/img_98501.jpg',\n",
       " 'data/train/c8/img_40824.jpg',\n",
       " 'data/train/c8/img_63365.jpg',\n",
       " ...]"
      ]
     },
     "execution_count": 16,
     "metadata": {},
     "output_type": "execute_result"
    }
   ],
   "source": [
    "src = all_data_path + '/train/**/*.jpg'\n",
    "print(src)\n",
    "g = glob(src, recursive=True)\n",
    "train_set_size = len(g)\n",
    "print(train_set_size)"
   ]
  },
  {
   "cell_type": "markdown",
   "metadata": {},
   "source": [
    "# Set up a simple model"
   ]
  },
  {
   "cell_type": "markdown",
   "metadata": {
    "ExecuteTime": {
     "end_time": "2017-06-03T08:48:49.680336Z",
     "start_time": "2017-06-03T08:48:49.674761Z"
    }
   },
   "source": [
    "## Set up the batches"
   ]
  },
  {
   "cell_type": "code",
   "execution_count": 7,
   "metadata": {
    "ExecuteTime": {
     "end_time": "2017-06-04T07:52:07.898630Z",
     "start_time": "2017-06-04T07:52:07.244016Z"
    }
   },
   "outputs": [
    {
     "name": "stdout",
     "output_type": "stream",
     "text": [
      "data/train\n",
      "Found 18587 images belonging to 10 classes.\n",
      "Found 3837 images belonging to 10 classes.\n"
     ]
    }
   ],
   "source": [
    "# Grab a few images at a time for training and validation.\n",
    "# NB: They must be in subdirectories named based on their category\n",
    "print(data_path+'train')\n",
    "batch_size = 64\n",
    "batches = get_batches(data_path+'train', batch_size = batch_size)\n",
    "val_batches = get_batches(data_path+'valid', batch_size = batch_size*2, shuffle=False)"
   ]
  },
  {
   "cell_type": "code",
   "execution_count": 8,
   "metadata": {
    "ExecuteTime": {
     "end_time": "2017-06-04T07:52:13.848558Z",
     "start_time": "2017-06-04T07:52:10.739074Z"
    }
   },
   "outputs": [
    {
     "name": "stdout",
     "output_type": "stream",
     "text": [
      "Found 18587 images belonging to 10 classes.\n",
      "Found 3837 images belonging to 10 classes.\n",
      "Found 79726 images belonging to 1 classes.\n"
     ]
    }
   ],
   "source": [
    "(val_classes, trn_classes, val_labels, trn_labels, val_filenames, filenames, test_filenames) = get_classes(data_path)"
   ]
  },
  {
   "cell_type": "markdown",
   "metadata": {
    "heading_collapsed": true
   },
   "source": [
    "## Inspecting the imported class data"
   ]
  },
  {
   "cell_type": "markdown",
   "metadata": {
    "hidden": true
   },
   "source": [
    "Let's make some sense of what that last command achieved. Looking at the vgg (fast.ai) code from which it comes, it extracts information from the json file that comes with imagenet."
   ]
  },
  {
   "cell_type": "code",
   "execution_count": 65,
   "metadata": {
    "ExecuteTime": {
     "end_time": "2017-06-03T21:54:27.352083Z",
     "start_time": "2017-06-03T21:54:27.341431Z"
    },
    "hidden": true
   },
   "outputs": [
    {
     "name": "stdout",
     "output_type": "stream",
     "text": [
      "val_classes: 3837\n",
      "[0 0 1 1]\n",
      "[[ 1.  0.  0.  0.  0.  0.  0.  0.  0.  0.]\n",
      " [ 1.  0.  0.  0.  0.  0.  0.  0.  0.  0.]\n",
      " [ 0.  1.  0.  0.  0.  0.  0.  0.  0.  0.]\n",
      " [ 0.  1.  0.  0.  0.  0.  0.  0.  0.  0.]]\n",
      "['c0/img_75810.jpg', 'c0/img_25783.jpg', 'c1/img_59482.jpg', 'c1/img_86904.jpg']\n",
      "trn_classes: 18587\n",
      "[0 0 1]\n",
      "[[ 1.  0.  0.  0.  0.  0.  0.  0.  0.  0.]\n",
      " [ 1.  0.  0.  0.  0.  0.  0.  0.  0.  0.]\n",
      " [ 0.  1.  0.  0.  0.  0.  0.  0.  0.  0.]]\n",
      "filenames: 18587\n",
      "['c0/img_57235.jpg', 'c0/img_88177.jpg', 'c1/img_80626.jpg']\n",
      "test_filenames: 79726\n",
      "['unknown/img_74200.jpg', 'unknown/img_49022.jpg', 'unknown/img_39851.jpg']\n"
     ]
    }
   ],
   "source": [
    "print('val_classes:', len(val_classes))\n",
    "print(val_classes[454:458])\n",
    "print(val_labels[454:458])\n",
    "print(val_filenames[454:458])\n",
    "print('trn_classes:', len(trn_classes))\n",
    "print(trn_classes[2031:2034])\n",
    "print(trn_labels[2031:2034])\n",
    "print('filenames:', len(filenames))\n",
    "print(filenames[2031:2034])\n",
    "print('test_filenames:', len(test_filenames))\n",
    "print(test_filenames[2031:2034])"
   ]
  },
  {
   "cell_type": "code",
   "execution_count": null,
   "metadata": {
    "collapsed": true,
    "hidden": true
   },
   "outputs": [],
   "source": []
  },
  {
   "cell_type": "markdown",
   "metadata": {
    "ExecuteTime": {
     "end_time": "2017-06-03T22:00:15.461847Z",
     "start_time": "2017-06-03T22:00:15.456862Z"
    },
    "heading_collapsed": true
   },
   "source": [
    "## Importing the data"
   ]
  },
  {
   "cell_type": "markdown",
   "metadata": {
    "hidden": true
   },
   "source": [
    "The lines below need <strong>only be run once</strong> (they take 4 minutes) - on following sessions, one can simply load the arrays (see the cell below it). "
   ]
  },
  {
   "cell_type": "code",
   "execution_count": 67,
   "metadata": {
    "ExecuteTime": {
     "end_time": "2017-06-03T22:05:36.201887Z",
     "start_time": "2017-06-03T22:01:37.642723Z"
    },
    "hidden": true
   },
   "outputs": [
    {
     "name": "stdout",
     "output_type": "stream",
     "text": [
      "Found 18587 images belonging to 10 classes.\n",
      "Found 3837 images belonging to 10 classes.\n"
     ]
    }
   ],
   "source": [
    "trn = get_data(data_path + 'train')\n",
    "val = get_data(data_path + 'valid')"
   ]
  },
  {
   "cell_type": "markdown",
   "metadata": {
    "hidden": true
   },
   "source": [
    "Save the data arrays, for faster reloading."
   ]
  },
  {
   "cell_type": "code",
   "execution_count": 68,
   "metadata": {
    "ExecuteTime": {
     "end_time": "2017-06-03T22:07:15.564484Z",
     "start_time": "2017-06-03T22:07:02.312972Z"
    },
    "collapsed": true,
    "hidden": true
   },
   "outputs": [],
   "source": [
    "save_array(data_path + 'results/val.dat', val)\n",
    "save_array(data_path + 'results/trn.dat', trn)"
   ]
  },
  {
   "cell_type": "code",
   "execution_count": 9,
   "metadata": {
    "ExecuteTime": {
     "end_time": "2017-06-04T07:52:36.058673Z",
     "start_time": "2017-06-04T07:52:22.384239Z"
    },
    "collapsed": true,
    "hidden": true
   },
   "outputs": [],
   "source": [
    "val = load_array(data_path + 'results/val.dat')\n",
    "trn = load_array(data_path + 'results/trn.dat')"
   ]
  },
  {
   "cell_type": "markdown",
   "metadata": {},
   "source": [
    "# Experiments"
   ]
  },
  {
   "cell_type": "markdown",
   "metadata": {},
   "source": [
    "## A single conv layer"
   ]
  },
  {
   "cell_type": "code",
   "execution_count": 7,
   "metadata": {
    "ExecuteTime": {
     "end_time": "2017-06-04T20:53:40.843143Z",
     "start_time": "2017-06-04T20:53:40.831940Z"
    },
    "collapsed": true
   },
   "outputs": [],
   "source": [
    "def conv1(batches):\n",
    "    model = Sequential([\n",
    "            BatchNormalization(axis=1, input_shape=(3,224,224)),\n",
    "            Convolution2D(32,3,3, activation='relu'),\n",
    "            BatchNormalization(axis=1),\n",
    "            MaxPooling2D((3,3)),\n",
    "            Convolution2D(64,3,3, activation='relu'),\n",
    "            BatchNormalization(axis=1),\n",
    "            MaxPooling2D((3,3)),\n",
    "            Flatten(),\n",
    "            Dense(200, activation='relu'),\n",
    "            BatchNormalization(),\n",
    "            Dense(10, activation='softmax')\n",
    "        ])\n",
    "\n",
    "    model.compile(Adam(lr=1e-4), loss='categorical_crossentropy', metrics=['accuracy'])\n",
    "    model.fit_generator(batches, batches.nb_sample, nb_epoch=2, validation_data=val_batches, \n",
    "                     nb_val_samples=val_batches.nb_sample)\n",
    "    model.optimizer.lr = 0.001\n",
    "    model.fit_generator(batches, batches.nb_sample, nb_epoch=4, validation_data=val_batches, \n",
    "                     nb_val_samples=val_batches.nb_sample)\n",
    "    return model"
   ]
  },
  {
   "cell_type": "markdown",
   "metadata": {
    "heading_collapsed": true
   },
   "source": [
    "### Train the model"
   ]
  },
  {
   "cell_type": "code",
   "execution_count": 11,
   "metadata": {
    "ExecuteTime": {
     "end_time": "2017-06-04T08:14:07.094593Z",
     "start_time": "2017-06-04T07:52:50.716224Z"
    },
    "hidden": true
   },
   "outputs": [
    {
     "name": "stdout",
     "output_type": "stream",
     "text": [
      "Epoch 1/2\n",
      "18587/18587 [==============================] - 202s - loss: 0.2188 - acc: 0.9461 - val_loss: 4.1314 - val_acc: 0.1337\n",
      "Epoch 2/2\n",
      "18587/18587 [==============================] - 196s - loss: 0.0137 - acc: 0.9985 - val_loss: 2.8235 - val_acc: 0.2374\n",
      "Epoch 1/4\n",
      "18587/18587 [==============================] - 214s - loss: 0.0063 - acc: 0.9995 - val_loss: 2.9924 - val_acc: 0.2637\n",
      "Epoch 2/4\n",
      "18587/18587 [==============================] - 207s - loss: 0.0028 - acc: 0.9999 - val_loss: 2.9473 - val_acc: 0.2353\n",
      "Epoch 3/4\n",
      "18587/18587 [==============================] - 193s - loss: 0.0018 - acc: 0.9999 - val_loss: 3.0685 - val_acc: 0.2531\n",
      "Epoch 4/4\n",
      "18587/18587 [==============================] - 198s - loss: 0.0016 - acc: 0.9998 - val_loss: 3.2383 - val_acc: 0.2651\n"
     ]
    }
   ],
   "source": [
    "model = conv1(batches)"
   ]
  },
  {
   "cell_type": "markdown",
   "metadata": {
    "heading_collapsed": true
   },
   "source": [
    "### Discussion"
   ]
  },
  {
   "cell_type": "markdown",
   "metadata": {
    "hidden": true
   },
   "source": [
    "I'm really puzzled by this, on two counts (first two points are same issue?).\n",
    "1. The model took almost 2x as long as the fast.ai notebook, when it usually runs much faster.\n",
    "2. The temperature profiles were the opposite of normal - this time it was the CPU that ran hot. The GPU barely hit 37deg.\n",
    "3. More importantly, the val_acc was far lower than Howerd's (shown below)."
   ]
  },
  {
   "cell_type": "code",
   "execution_count": 17,
   "metadata": {
    "ExecuteTime": {
     "end_time": "2017-06-04T09:30:36.942739Z",
     "start_time": "2017-06-04T09:30:36.938062Z"
    },
    "hidden": true
   },
   "outputs": [
    {
     "ename": "SyntaxError",
     "evalue": "invalid syntax (<ipython-input-17-fc08a237f549>, line 1)",
     "output_type": "error",
     "traceback": [
      "\u001b[0;36m  File \u001b[0;32m\"<ipython-input-17-fc08a237f549>\"\u001b[0;36m, line \u001b[0;32m1\u001b[0m\n\u001b[0;31m    On further reflection, I suspect that the simplicity of the model explains the temperature differences.\u001b[0m\n\u001b[0m             ^\u001b[0m\n\u001b[0;31mSyntaxError\u001b[0m\u001b[0;31m:\u001b[0m invalid syntax\n"
     ]
    }
   ],
   "source": [
    "On further reflection, I suspect that the simplicity of the model explains the temperature differences. "
   ]
  },
  {
   "cell_type": "raw",
   "metadata": {
    "hidden": true
   },
   "source": [
    "## HOWARD's results!\n",
    "Epoch 1/2\n",
    "18946/18946 [==============================] - 114s - loss: 0.2273 - acc: 0.9405 - val_loss: 2.4946 - val_acc: 0.2826\n",
    "Epoch 2/2\n",
    "18946/18946 [==============================] - 114s - loss: 0.0120 - acc: 0.9990 - val_loss: 1.5872 - val_acc: 0.5253\n",
    "Epoch 1/4\n",
    "18946/18946 [==============================] - 114s - loss: 0.0093 - acc: 0.9992 - val_loss: 1.4836 - val_acc: 0.5825\n",
    "Epoch 2/4\n",
    "18946/18946 [==============================] - 114s - loss: 0.0032 - acc: 1.0000 - val_loss: 1.3142 - val_acc: 0.6162\n",
    "Epoch 3/4\n",
    "18946/18946 [==============================] - 114s - loss: 0.0035 - acc: 0.9996 - val_loss: 1.5061 - val_acc: 0.5771\n",
    "Epoch 4/4\n",
    "18946/18946 [==============================] - 114s - loss: 0.0036 - acc: 0.9997 - val_loss: 1.4528 - val_acc: 0.5808"
   ]
  },
  {
   "cell_type": "markdown",
   "metadata": {
    "hidden": true
   },
   "source": [
    "One possibility is that Howard used a different approach to setting up the validation set. Hypothesis: I ensured that the same drivers could not be found in both sets, but he didn't? One way to test this would be to see what I get against the Kaggle test set. "
   ]
  },
  {
   "cell_type": "markdown",
   "metadata": {},
   "source": [
    "## Augment the data"
   ]
  },
  {
   "cell_type": "markdown",
   "metadata": {},
   "source": [
    "Data augmentation is really a way to ensure that the model doesn't overfit on some fairly simple characteristics. It's built in to Keras."
   ]
  },
  {
   "cell_type": "code",
   "execution_count": 9,
   "metadata": {
    "ExecuteTime": {
     "end_time": "2017-06-04T20:54:16.371767Z",
     "start_time": "2017-06-04T20:54:15.949274Z"
    }
   },
   "outputs": [
    {
     "name": "stdout",
     "output_type": "stream",
     "text": [
      "Found 18587 images belonging to 10 classes.\n"
     ]
    }
   ],
   "source": [
    "batch_size = 64\n",
    "gen_t = image.ImageDataGenerator(channel_shift_range=20, height_shift_range=0.05, \n",
    "                                 rotation_range=15, shear_range=0.1, width_shift_range=0.1)  \n",
    "batches = get_batches(data_path+'train', gen_t, batch_size=batch_size)"
   ]
  },
  {
   "cell_type": "code",
   "execution_count": 13,
   "metadata": {
    "ExecuteTime": {
     "end_time": "2017-06-04T08:55:51.865819Z",
     "start_time": "2017-06-04T08:35:23.760902Z"
    }
   },
   "outputs": [
    {
     "name": "stdout",
     "output_type": "stream",
     "text": [
      "Epoch 1/2\n",
      "18587/18587 [==============================] - 211s - loss: 1.2281 - acc: 0.6060 - val_loss: 2.3168 - val_acc: 0.3378\n",
      "Epoch 2/2\n",
      "18587/18587 [==============================] - 201s - loss: 0.5687 - acc: 0.8308 - val_loss: 2.1443 - val_acc: 0.3909\n",
      "Epoch 1/4\n",
      "18587/18587 [==============================] - 206s - loss: 0.3892 - acc: 0.8892 - val_loss: 2.0790 - val_acc: 0.4217\n",
      "Epoch 2/4\n",
      "18587/18587 [==============================] - 202s - loss: 0.2957 - acc: 0.9190 - val_loss: 1.8599 - val_acc: 0.4793\n",
      "Epoch 3/4\n",
      "18587/18587 [==============================] - 201s - loss: 0.2398 - acc: 0.9375 - val_loss: 2.2379 - val_acc: 0.4321\n",
      "Epoch 4/4\n",
      "18587/18587 [==============================] - 199s - loss: 0.2005 - acc: 0.9475 - val_loss: 2.3212 - val_acc: 0.4384\n"
     ]
    }
   ],
   "source": [
    "model = conv1(batches)"
   ]
  },
  {
   "cell_type": "markdown",
   "metadata": {
    "heading_collapsed": true
   },
   "source": [
    "### Discussion"
   ]
  },
  {
   "cell_type": "markdown",
   "metadata": {
    "hidden": true
   },
   "source": [
    "* The weird temps haven't changed, but the amount of time that an epoch takes has gone up. This makes sense. Not sure whether raising the batch size might *increase* overfitting, though?\n",
    "* By Epoch 2-4, train-acc is lower and val_acc is higher, so overfitting has been reduced. Good."
   ]
  },
  {
   "cell_type": "markdown",
   "metadata": {
    "hidden": true
   },
   "source": [
    "At this point, JH reduces the training rate and re-runs the same model and data. Perhaps it would be smarter to reduce the LR after the second epoch in the second set?"
   ]
  },
  {
   "cell_type": "markdown",
   "metadata": {
    "heading_collapsed": true
   },
   "source": [
    "## Employ JH's model with an adapted training process"
   ]
  },
  {
   "cell_type": "code",
   "execution_count": 14,
   "metadata": {
    "ExecuteTime": {
     "end_time": "2017-06-04T08:59:53.787429Z",
     "start_time": "2017-06-04T08:59:53.740275Z"
    },
    "collapsed": true,
    "hidden": true
   },
   "outputs": [],
   "source": [
    "def conv2(batches):\n",
    "    model = Sequential([\n",
    "            BatchNormalization(axis=1, input_shape=(3,224,224)),\n",
    "            Convolution2D(32,3,3, activation='relu'),\n",
    "            BatchNormalization(axis=1),\n",
    "            MaxPooling2D((3,3)),\n",
    "            Convolution2D(64,3,3, activation='relu'),\n",
    "            BatchNormalization(axis=1),\n",
    "            MaxPooling2D((3,3)),\n",
    "            Flatten(),\n",
    "            Dense(200, activation='relu'),\n",
    "            BatchNormalization(),\n",
    "            Dense(10, activation='softmax')\n",
    "        ])\n",
    "\n",
    "    model.compile(Adam(lr=1e-4), loss='categorical_crossentropy', metrics=['accuracy'])\n",
    "    model.fit_generator(batches, batches.nb_sample, nb_epoch=2, validation_data=val_batches, \n",
    "                     nb_val_samples=val_batches.nb_sample)\n",
    "    model.optimizer.lr = 0.001\n",
    "    # 2, not 4, epochs here - MDR\n",
    "    model.fit_generator(batches, batches.nb_sample, nb_epoch=2, validation_data=val_batches, \n",
    "                     nb_val_samples=val_batches.nb_sample)\n",
    "    model.optimizer.lr = 0.0001\n",
    "    # added - MDR\n",
    "    model.fit_generator(batches, batches.nb_sample, nb_epoch=2, validation_data=val_batches, \n",
    "                     nb_val_samples=val_batches.nb_sample)\n",
    "    return model"
   ]
  },
  {
   "cell_type": "code",
   "execution_count": 16,
   "metadata": {
    "ExecuteTime": {
     "end_time": "2017-06-04T09:30:36.935894Z",
     "start_time": "2017-06-04T09:10:02.863738Z"
    },
    "hidden": true
   },
   "outputs": [
    {
     "name": "stdout",
     "output_type": "stream",
     "text": [
      "Epoch 1/2\n",
      "18587/18587 [==============================] - 207s - loss: 1.1820 - acc: 0.6210 - val_loss: 2.0422 - val_acc: 0.3193\n",
      "Epoch 2/2\n",
      "18587/18587 [==============================] - 203s - loss: 0.5783 - acc: 0.8243 - val_loss: 2.5763 - val_acc: 0.3683\n",
      "Epoch 1/2\n",
      "18587/18587 [==============================] - 207s - loss: 0.4063 - acc: 0.8797 - val_loss: 2.0120 - val_acc: 0.4613\n",
      "Epoch 2/2\n",
      "18587/18587 [==============================] - 200s - loss: 0.3102 - acc: 0.9133 - val_loss: 2.0487 - val_acc: 0.4746\n",
      "Epoch 1/2\n",
      "18587/18587 [==============================] - 207s - loss: 0.2486 - acc: 0.9335 - val_loss: 1.9054 - val_acc: 0.4730\n",
      "Epoch 2/2\n",
      "18587/18587 [==============================] - 202s - loss: 0.2082 - acc: 0.9432 - val_loss: 1.9443 - val_acc: 0.4848\n"
     ]
    }
   ],
   "source": [
    "batch_size = 128\n",
    "model = conv2(batches)"
   ]
  },
  {
   "cell_type": "markdown",
   "metadata": {
    "hidden": true
   },
   "source": [
    "One other change - I experimented with turning the GPU fan back to automatic settings. And then turned it back to manual (75%)"
   ]
  },
  {
   "cell_type": "markdown",
   "metadata": {
    "hidden": true
   },
   "source": [
    "### Discussion"
   ]
  },
  {
   "cell_type": "markdown",
   "metadata": {
    "hidden": true
   },
   "source": [
    "* val_acc increased monotonically throughout this experiment - GOOD. \n",
    "* acc hit a fairly high point, though (.9432), so we're still overfitting.\n",
    "* Re the fan: temps did increase, when I turned it to auto. They rose by 15deg (35-50deg), but this took five minutes. This steady rise is still very much slower than the profile for VGG, but it's reassuring to see that it did happen. Putting the fan back on dropped the temps again - but not quite to the previous baseline (at least, not within 12 mins). \n",
    "* JH notes that his results were very 'unstable' - the val_acc was jumping around (unlike mine)."
   ]
  },
  {
   "cell_type": "markdown",
   "metadata": {},
   "source": [
    "## A deeper architecture: four conv-pooling pairs, plus dropout"
   ]
  },
  {
   "cell_type": "markdown",
   "metadata": {},
   "source": [
    "Three things are changed, here (plus one repeal of a change I made above, and now doubt the reason of):\n",
    "\n",
    "* the architecture has changed: it has more conv and pool layers, and it has dropout\n",
    "* the data augmentation params have been adjusted, compared to those used above\n",
    "* I've switched the batch_size back to 64, to match that used in setting up the batches at the top of the notebook - shouldn't they match?"
   ]
  },
  {
   "cell_type": "code",
   "execution_count": 18,
   "metadata": {
    "ExecuteTime": {
     "end_time": "2017-06-04T09:45:35.284084Z",
     "start_time": "2017-06-04T09:45:34.724607Z"
    }
   },
   "outputs": [
    {
     "name": "stdout",
     "output_type": "stream",
     "text": [
      "Found 18587 images belonging to 10 classes.\n"
     ]
    }
   ],
   "source": [
    "gen_t = image.ImageDataGenerator(channel_shift_range=20, height_shift_range=0.05, \n",
    "                                 rotation_range=15, shear_range=0.1, width_shift_range=0.1)  \n",
    "batches = get_batches(data_path+'train', gen_t, batch_size=batch_size)"
   ]
  },
  {
   "cell_type": "markdown",
   "metadata": {},
   "source": [
    "Note - this time, we haven't wrapped the model in a function (that returns a model). Both ways work."
   ]
  },
  {
   "cell_type": "code",
   "execution_count": 19,
   "metadata": {
    "ExecuteTime": {
     "end_time": "2017-06-04T09:51:41.589830Z",
     "start_time": "2017-06-04T09:51:41.141025Z"
    },
    "collapsed": true
   },
   "outputs": [],
   "source": [
    "model = Sequential([\n",
    "        BatchNormalization(axis=1, input_shape=(3,224,224)),\n",
    "        Convolution2D(32,3,3, activation='relu'),\n",
    "        BatchNormalization(axis=1),\n",
    "        MaxPooling2D(),                               # before, he defined the size (3,3)\n",
    "        Convolution2D(64,3,3, activation='relu'),\n",
    "        BatchNormalization(axis=1),\n",
    "        MaxPooling2D(),\n",
    "        Convolution2D(128,3,3, activation='relu'),    # new\n",
    "        BatchNormalization(axis=1),                   # new\n",
    "        MaxPooling2D(),                               # new\n",
    "        Flatten(),              \n",
    "        Dense(200, activation='relu'),                # new\n",
    "        BatchNormalization(),                         # new\n",
    "        Dropout(0.5),                                 # new\n",
    "        Dense(200, activation='relu'),\n",
    "        BatchNormalization(),\n",
    "        Dropout(0.5),                                 # new\n",
    "        Dense(10, activation='softmax')\n",
    "    ])"
   ]
  },
  {
   "cell_type": "markdown",
   "metadata": {},
   "source": [
    "JH's LR is really low, here."
   ]
  },
  {
   "cell_type": "code",
   "execution_count": 20,
   "metadata": {
    "ExecuteTime": {
     "end_time": "2017-06-04T10:06:56.212616Z",
     "start_time": "2017-06-04T09:59:14.592321Z"
    }
   },
   "outputs": [
    {
     "name": "stdout",
     "output_type": "stream",
     "text": [
      "Epoch 1/2\n",
      "18587/18587 [==============================] - 215s - loss: 3.1516 - acc: 0.1628 - val_loss: 2.4575 - val_acc: 0.1168\n",
      "Epoch 2/2\n",
      "18587/18587 [==============================] - 202s - loss: 2.6143 - acc: 0.2531 - val_loss: 2.5248 - val_acc: 0.1267\n"
     ]
    },
    {
     "data": {
      "text/plain": [
       "<keras.callbacks.History at 0x7fb59bbf3b00>"
      ]
     },
     "execution_count": 20,
     "metadata": {},
     "output_type": "execute_result"
    }
   ],
   "source": [
    "model.compile(Adam(lr=0.00001), loss='categorical_crossentropy', metrics=['accuracy'])\n",
    "model.fit_generator(batches, batches.nb_sample, nb_epoch=2, validation_data=val_batches, \n",
    "                    nb_val_samples=val_batches.nb_sample)             "
   ]
  },
  {
   "cell_type": "markdown",
   "metadata": {},
   "source": [
    " Surely way too slow!"
   ]
  },
  {
   "cell_type": "code",
   "execution_count": 21,
   "metadata": {
    "ExecuteTime": {
     "end_time": "2017-06-04T10:17:59.418583Z",
     "start_time": "2017-06-04T10:10:46.757232Z"
    }
   },
   "outputs": [
    {
     "name": "stdout",
     "output_type": "stream",
     "text": [
      "Epoch 1/2\n",
      "18587/18587 [==============================] - 216s - loss: 2.1611 - acc: 0.3356 - val_loss: 2.4113 - val_acc: 0.2695\n",
      "Epoch 2/2\n",
      "18587/18587 [==============================] - 203s - loss: 1.1126 - acc: 0.6193 - val_loss: 1.9400 - val_acc: 0.4368\n"
     ]
    },
    {
     "data": {
      "text/plain": [
       "<keras.callbacks.History at 0x7fb599af08d0>"
      ]
     },
     "execution_count": 21,
     "metadata": {},
     "output_type": "execute_result"
    }
   ],
   "source": [
    "model.compile(Adam(lr=0.001), loss='categorical_crossentropy', metrics=['accuracy'])\n",
    "model.fit_generator(batches, batches.nb_sample, nb_epoch=2, validation_data=val_batches, \n",
    "                    nb_val_samples=val_batches.nb_sample)  "
   ]
  },
  {
   "cell_type": "code",
   "execution_count": 22,
   "metadata": {
    "ExecuteTime": {
     "end_time": "2017-06-04T10:34:56.992625Z",
     "start_time": "2017-06-04T10:27:56.287061Z"
    }
   },
   "outputs": [
    {
     "name": "stdout",
     "output_type": "stream",
     "text": [
      "Epoch 1/2\n",
      "18587/18587 [==============================] - 216s - loss: 0.6640 - acc: 0.7776 - val_loss: 2.0587 - val_acc: 0.4545\n",
      "Epoch 2/2\n",
      "18587/18587 [==============================] - 204s - loss: 0.4434 - acc: 0.8553 - val_loss: 2.4554 - val_acc: 0.3563\n"
     ]
    },
    {
     "data": {
      "text/plain": [
       "<keras.callbacks.History at 0x7fb598d6f208>"
      ]
     },
     "execution_count": 22,
     "metadata": {},
     "output_type": "execute_result"
    }
   ],
   "source": [
    "model.optimizer.lr = 0.0001\n",
    "model.fit_generator(batches, batches.nb_sample, nb_epoch=2, validation_data=val_batches, \n",
    "                    nb_val_samples=val_batches.nb_sample)  "
   ]
  },
  {
   "cell_type": "markdown",
   "metadata": {},
   "source": [
    "I wonder if it's worth keeping going?"
   ]
  },
  {
   "cell_type": "code",
   "execution_count": 23,
   "metadata": {
    "ExecuteTime": {
     "end_time": "2017-06-04T10:45:59.214266Z",
     "start_time": "2017-06-04T10:39:00.626570Z"
    }
   },
   "outputs": [
    {
     "name": "stdout",
     "output_type": "stream",
     "text": [
      "Epoch 1/2\n",
      "18587/18587 [==============================] - 216s - loss: 0.3341 - acc: 0.8901 - val_loss: 1.9272 - val_acc: 0.5728\n",
      "Epoch 2/2\n",
      "18587/18587 [==============================] - 202s - loss: 0.2536 - acc: 0.9181 - val_loss: 1.5902 - val_acc: 0.5575\n"
     ]
    },
    {
     "data": {
      "text/plain": [
       "<keras.callbacks.History at 0x7fb598d6feb8>"
      ]
     },
     "execution_count": 23,
     "metadata": {},
     "output_type": "execute_result"
    }
   ],
   "source": [
    "model.fit_generator(batches, batches.nb_sample, nb_epoch=2, validation_data=val_batches, \n",
    "                    nb_val_samples=val_batches.nb_sample)  "
   ]
  },
  {
   "cell_type": "markdown",
   "metadata": {},
   "source": [
    "Perhaps with a lower learning rate at this point..."
   ]
  },
  {
   "cell_type": "code",
   "execution_count": 24,
   "metadata": {
    "ExecuteTime": {
     "end_time": "2017-06-04T10:54:44.206452Z",
     "start_time": "2017-06-04T10:48:02.007173Z"
    }
   },
   "outputs": [
    {
     "name": "stdout",
     "output_type": "stream",
     "text": [
      "Epoch 1/2\n",
      "18587/18587 [==============================] - 208s - loss: 0.2041 - acc: 0.9355 - val_loss: 1.9901 - val_acc: 0.5262\n",
      "Epoch 2/2\n",
      "18587/18587 [==============================] - 193s - loss: 0.1754 - acc: 0.9477 - val_loss: 1.4121 - val_acc: 0.6375\n"
     ]
    },
    {
     "data": {
      "text/plain": [
       "<keras.callbacks.History at 0x7fb599af0a20>"
      ]
     },
     "execution_count": 24,
     "metadata": {},
     "output_type": "execute_result"
    }
   ],
   "source": [
    "model.optimizer.lr = 0.00001\n",
    "model.fit_generator(batches, batches.nb_sample, nb_epoch=2, validation_data=val_batches, \n",
    "                    nb_val_samples=val_batches.nb_sample) "
   ]
  },
  {
   "cell_type": "markdown",
   "metadata": {},
   "source": [
    "### Discussion"
   ]
  },
  {
   "cell_type": "markdown",
   "metadata": {},
   "source": [
    "I'm stopping this one here. It worked ok - 63% acc isn't bad, but we're overfitting still. It's likely that I'll have more luck applying the same techniques in fine-tuning VGG."
   ]
  },
  {
   "cell_type": "code",
   "execution_count": null,
   "metadata": {
    "collapsed": true
   },
   "outputs": [],
   "source": []
  }
 ],
 "metadata": {
  "kernelspec": {
   "display_name": "Python 3",
   "language": "python",
   "name": "python3"
  },
  "language_info": {
   "codemirror_mode": {
    "name": "ipython",
    "version": 3
   },
   "file_extension": ".py",
   "mimetype": "text/x-python",
   "name": "python",
   "nbconvert_exporter": "python",
   "pygments_lexer": "ipython3",
   "version": "3.5.2"
  },
  "toc": {
   "colors": {
    "hover_highlight": "#DAA520",
    "running_highlight": "#FF0000",
    "selected_highlight": "#FFD700"
   },
   "moveMenuLeft": true,
   "nav_menu": {
    "height": "512px",
    "width": "488px"
   },
   "navigate_menu": true,
   "number_sections": true,
   "sideBar": true,
   "threshold": 4,
   "toc_cell": false,
   "toc_section_display": "block",
   "toc_window_display": false,
   "widenNotebook": false
  }
 },
 "nbformat": 4,
 "nbformat_minor": 2
}
