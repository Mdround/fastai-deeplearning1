{
 "cells": [
  {
   "cell_type": "code",
   "execution_count": 1,
   "metadata": {
    "ExecuteTime": {
     "end_time": "2017-06-27T20:29:30.212787Z",
     "start_time": "2017-06-27T20:29:27.260118Z"
    }
   },
   "outputs": [
    {
     "name": "stderr",
     "output_type": "stream",
     "text": [
      "WARNING (theano.sandbox.cuda): The cuda backend is deprecated and will be removed in the next release (v0.10).  Please switch to the gpuarray backend. You can get more information about how to switch at this URL:\n",
      " https://github.com/Theano/Theano/wiki/Converting-to-the-new-gpu-back-end%28gpuarray%29\n",
      "\n",
      "Using gpu device 0: GeForce GTX 1070 (CNMeM is disabled, cuDNN 5110)\n"
     ]
    }
   ],
   "source": [
    "from theano.sandbox import cuda"
   ]
  },
  {
   "cell_type": "code",
   "execution_count": 2,
   "metadata": {
    "ExecuteTime": {
     "end_time": "2017-06-27T20:29:31.166304Z",
     "start_time": "2017-06-27T20:29:30.213889Z"
    }
   },
   "outputs": [
    {
     "name": "stderr",
     "output_type": "stream",
     "text": [
      "Using Theano backend.\n"
     ]
    }
   ],
   "source": [
    "%matplotlib inline\n",
    "import utils #; reload(utils)\n",
    "from utils import *\n",
    "from __future__ import division, print_function\n",
    "import pickle\n",
    "import utils_MDR"
   ]
  },
  {
   "cell_type": "code",
   "execution_count": 3,
   "metadata": {
    "ExecuteTime": {
     "end_time": "2017-06-27T20:29:31.170146Z",
     "start_time": "2017-06-27T20:29:31.167906Z"
    },
    "collapsed": true
   },
   "outputs": [],
   "source": [
    "model_path = 'data/imdb/models/'"
   ]
  },
  {
   "cell_type": "markdown",
   "metadata": {},
   "source": [
    "MDR: and needs by GPU-fan code, too..."
   ]
  },
  {
   "cell_type": "code",
   "execution_count": 4,
   "metadata": {
    "ExecuteTime": {
     "end_time": "2017-06-27T20:29:31.174309Z",
     "start_time": "2017-06-27T20:29:31.171621Z"
    },
    "collapsed": true
   },
   "outputs": [],
   "source": [
    "import utils_MDR\n",
    "from utils_MDR import *"
   ]
  },
  {
   "cell_type": "markdown",
   "metadata": {},
   "source": [
    "## Setup data"
   ]
  },
  {
   "cell_type": "markdown",
   "metadata": {},
   "source": [
    "We're going to look at the IMDB dataset, which contains movie reviews from IMDB, along with their sentiment. Keras comes with some helpers for this dataset."
   ]
  },
  {
   "cell_type": "code",
   "execution_count": 5,
   "metadata": {
    "ExecuteTime": {
     "end_time": "2017-06-27T20:29:36.042126Z",
     "start_time": "2017-06-27T20:29:35.965181Z"
    },
    "collapsed": true
   },
   "outputs": [],
   "source": [
    "from keras.datasets import imdb\n",
    "idx = imdb.get_word_index()"
   ]
  },
  {
   "cell_type": "markdown",
   "metadata": {},
   "source": [
    "This is the word list:"
   ]
  },
  {
   "cell_type": "code",
   "execution_count": 6,
   "metadata": {
    "ExecuteTime": {
     "end_time": "2017-06-27T20:29:36.895566Z",
     "start_time": "2017-06-27T20:29:36.842046Z"
    }
   },
   "outputs": [
    {
     "data": {
      "text/plain": [
       "['the', 'and', 'a', 'of', 'to', 'is', 'br', 'in', 'it', 'i']"
      ]
     },
     "execution_count": 6,
     "metadata": {},
     "output_type": "execute_result"
    }
   ],
   "source": [
    "idx_arr = sorted(idx, key=idx.get)\n",
    "idx_arr[:10]"
   ]
  },
  {
   "cell_type": "markdown",
   "metadata": {},
   "source": [
    "...and this is the mapping from id to word"
   ]
  },
  {
   "cell_type": "code",
   "execution_count": 7,
   "metadata": {
    "ExecuteTime": {
     "end_time": "2017-06-27T20:29:40.411231Z",
     "start_time": "2017-06-27T20:29:40.390654Z"
    },
    "collapsed": true,
    "scrolled": false
   },
   "outputs": [],
   "source": [
    "## idx2word = {v: k for k, v in idx.iteritems()}  ## Py 2.7\n",
    "idx2word = {v: k for k, v in idx.items()}         ## Py 3.x"
   ]
  },
  {
   "cell_type": "markdown",
   "metadata": {},
   "source": [
    "We download the reviews using code copied from keras.datasets:"
   ]
  },
  {
   "cell_type": "code",
   "execution_count": 8,
   "metadata": {
    "ExecuteTime": {
     "end_time": "2017-06-27T20:29:44.912020Z",
     "start_time": "2017-06-27T20:29:42.786854Z"
    },
    "collapsed": true
   },
   "outputs": [],
   "source": [
    "path = get_file('imdb_full.pkl',\n",
    "                origin='https://s3.amazonaws.com/text-datasets/imdb_full.pkl',\n",
    "                md5_hash='d091312047c43cf9e4e38fef92437263')\n",
    "f = open(path, 'rb')\n",
    "(x_train, labels_train), (x_test, labels_test) = pickle.load(f)"
   ]
  },
  {
   "cell_type": "code",
   "execution_count": 9,
   "metadata": {
    "ExecuteTime": {
     "end_time": "2017-06-27T20:29:44.916221Z",
     "start_time": "2017-06-27T20:29:44.913372Z"
    }
   },
   "outputs": [
    {
     "data": {
      "text/plain": [
       "25000"
      ]
     },
     "execution_count": 9,
     "metadata": {},
     "output_type": "execute_result"
    }
   ],
   "source": [
    "len(x_train)"
   ]
  },
  {
   "cell_type": "markdown",
   "metadata": {},
   "source": [
    "Here's the 1st review. As you see, the words have been replaced by ids. The ids can be looked up in idx2word."
   ]
  },
  {
   "cell_type": "code",
   "execution_count": 10,
   "metadata": {
    "ExecuteTime": {
     "end_time": "2017-06-27T20:29:46.801119Z",
     "start_time": "2017-06-27T20:29:46.797098Z"
    }
   },
   "outputs": [
    {
     "data": {
      "text/plain": [
       "'23022, 309, 6, 3, 1069, 209, 9, 2175, 30, 1, 169, 55, 14, 46, 82, 5869, 41, 393, 110, 138, 14, 5359, 58, 4477, 150, 8, 1, 5032, 5948, 482, 69, 5, 261, 12, 23022, 73935, 2003, 6, 73, 2436, 5, 632, 71, 6, 5359, 1, 25279, 5, 2004, 10471, 1, 5941, 1534, 34, 67, 64, 205, 140, 65, 1232, 63526, 21145, 1, 49265, 4, 1, 223, 901, 29, 3024, 69, 4, 1, 5863, 10, 694, 2, 65, 1534, 51, 10, 216, 1, 387, 8, 60, 3, 1472, 3724, 802, 5, 3521, 177, 1, 393, 10, 1238, 14030, 30, 309, 3, 353, 344, 2989, 143, 130, 5, 7804, 28, 4, 126, 5359, 1472, 2375, 5, 23022, 309, 10, 532, 12, 108, 1470, 4, 58, 556, 101, 12, 23022, 309, 6, 227, 4187, 48, 3, 2237, 12, 9, 215'"
      ]
     },
     "execution_count": 10,
     "metadata": {},
     "output_type": "execute_result"
    }
   ],
   "source": [
    "', '.join(map(str, x_train[0]))"
   ]
  },
  {
   "cell_type": "markdown",
   "metadata": {},
   "source": [
    "The first word of the first review is 23022. Let's see what that is."
   ]
  },
  {
   "cell_type": "code",
   "execution_count": 11,
   "metadata": {
    "ExecuteTime": {
     "end_time": "2017-06-27T20:29:49.364425Z",
     "start_time": "2017-06-27T20:29:49.360055Z"
    }
   },
   "outputs": [
    {
     "data": {
      "text/plain": [
       "'bromwell'"
      ]
     },
     "execution_count": 11,
     "metadata": {},
     "output_type": "execute_result"
    }
   ],
   "source": [
    "idx2word[23022]"
   ]
  },
  {
   "cell_type": "markdown",
   "metadata": {},
   "source": [
    "Here's the whole review, mapped from ids to words."
   ]
  },
  {
   "cell_type": "code",
   "execution_count": 12,
   "metadata": {
    "ExecuteTime": {
     "end_time": "2017-06-26T20:52:59.286335Z",
     "start_time": "2017-06-26T20:52:59.280337Z"
    },
    "scrolled": true
   },
   "outputs": [
    {
     "data": {
      "text/plain": [
       "\"bromwell high is a cartoon comedy it ran at the same time as some other programs about school life such as teachers my 35 years in the teaching profession lead me to believe that bromwell high's satire is much closer to reality than is teachers the scramble to survive financially the insightful students who can see right through their pathetic teachers' pomp the pettiness of the whole situation all remind me of the schools i knew and their students when i saw the episode in which a student repeatedly tried to burn down the school i immediately recalled at high a classic line inspector i'm here to sack one of your teachers student welcome to bromwell high i expect that many adults of my age think that bromwell high is far fetched what a pity that it isn't\""
      ]
     },
     "execution_count": 12,
     "metadata": {},
     "output_type": "execute_result"
    }
   ],
   "source": [
    "' '.join([idx2word[o] for o in x_train[0]])"
   ]
  },
  {
   "cell_type": "markdown",
   "metadata": {},
   "source": [
    "The labels are 1 for positive, 0 for negative."
   ]
  },
  {
   "cell_type": "code",
   "execution_count": 13,
   "metadata": {
    "ExecuteTime": {
     "end_time": "2017-06-26T20:53:01.975490Z",
     "start_time": "2017-06-26T20:53:01.969934Z"
    }
   },
   "outputs": [
    {
     "data": {
      "text/plain": [
       "[1, 1, 1, 1, 1, 1, 1, 1, 1, 1]"
      ]
     },
     "execution_count": 13,
     "metadata": {},
     "output_type": "execute_result"
    }
   ],
   "source": [
    "labels_train[:10]"
   ]
  },
  {
   "cell_type": "markdown",
   "metadata": {},
   "source": [
    "Reduce vocab size by setting rare words to max index."
   ]
  },
  {
   "cell_type": "code",
   "execution_count": 12,
   "metadata": {
    "ExecuteTime": {
     "end_time": "2017-06-27T20:30:00.702077Z",
     "start_time": "2017-06-27T20:29:59.206042Z"
    },
    "collapsed": true
   },
   "outputs": [],
   "source": [
    "vocab_size = 5000\n",
    "\n",
    "trn = [np.array([i if i<vocab_size-1 else vocab_size-1 for i in s]) for s in x_train]\n",
    "test = [np.array([i if i<vocab_size-1 else vocab_size-1 for i in s]) for s in x_test]"
   ]
  },
  {
   "cell_type": "markdown",
   "metadata": {},
   "source": [
    "Look at distribution of lengths of sentences."
   ]
  },
  {
   "cell_type": "code",
   "execution_count": 13,
   "metadata": {
    "ExecuteTime": {
     "end_time": "2017-06-27T20:30:00.712484Z",
     "start_time": "2017-06-27T20:30:00.703002Z"
    },
    "scrolled": true
   },
   "outputs": [
    {
     "data": {
      "text/plain": [
       "(2493, 10, 237.71364)"
      ]
     },
     "execution_count": 13,
     "metadata": {},
     "output_type": "execute_result"
    }
   ],
   "source": [
    "## create an array of 'len'...gths\n",
    "# lens = np.array(map(len, trn)) ## only works in Py2.x, not 3.x ... \n",
    "##    'map in Python 3 return an iterator, while map in Python 2 returns a list'\n",
    "##    (https://stackoverflow.com/questions/35691489/error-in-python-3-5-cant-add-map-results-together)\n",
    "\n",
    "# This is a quick fix - not really a proper P3x approach.\n",
    "\n",
    "lens = np.array(list(map(len, trn)))   ## wrapped a list around it\n",
    "\n",
    "(lens.max(), lens.min(), lens.mean())"
   ]
  },
  {
   "cell_type": "raw",
   "metadata": {},
   "source": [
    "Expect:\n",
    "(2493, 10, 237.71364)"
   ]
  },
  {
   "cell_type": "markdown",
   "metadata": {},
   "source": [
    "Pad (with zero) or truncate each sentence to make consistent length."
   ]
  },
  {
   "cell_type": "code",
   "execution_count": 14,
   "metadata": {
    "ExecuteTime": {
     "end_time": "2017-06-27T20:30:04.767746Z",
     "start_time": "2017-06-27T20:30:04.534133Z"
    },
    "collapsed": true
   },
   "outputs": [],
   "source": [
    "seq_len = 500\n",
    "\n",
    "trn = sequence.pad_sequences(trn, maxlen=seq_len, value=0)\n",
    "test = sequence.pad_sequences(test, maxlen=seq_len, value=0)"
   ]
  },
  {
   "cell_type": "markdown",
   "metadata": {},
   "source": [
    "This results in nice rectangular matrices that can be passed to ML algorithms. Reviews shorter than 500 words are pre-padded with zeros, those greater are truncated."
   ]
  },
  {
   "cell_type": "code",
   "execution_count": 15,
   "metadata": {
    "ExecuteTime": {
     "end_time": "2017-06-27T20:30:06.469567Z",
     "start_time": "2017-06-27T20:30:06.465540Z"
    },
    "scrolled": false
   },
   "outputs": [
    {
     "data": {
      "text/plain": [
       "(25000, 500)"
      ]
     },
     "execution_count": 15,
     "metadata": {},
     "output_type": "execute_result"
    }
   ],
   "source": [
    "trn.shape"
   ]
  },
  {
   "cell_type": "raw",
   "metadata": {},
   "source": [
    "Expect:\n",
    "(25000, 500)"
   ]
  },
  {
   "cell_type": "markdown",
   "metadata": {},
   "source": [
    "## Create simple models"
   ]
  },
  {
   "cell_type": "markdown",
   "metadata": {
    "heading_collapsed": true
   },
   "source": [
    "### Single hidden layer NN"
   ]
  },
  {
   "cell_type": "markdown",
   "metadata": {
    "hidden": true
   },
   "source": [
    "The simplest model that tends to give reasonable results is a single hidden layer net. So let's try that. Note that we can't expect to get any useful results by feeding word ids directly into a neural net - so instead we use an embedding to replace them with a vector of 32 (initially random) floats for each word in the vocab."
   ]
  },
  {
   "cell_type": "code",
   "execution_count": 17,
   "metadata": {
    "ExecuteTime": {
     "end_time": "2017-06-26T20:53:55.946097Z",
     "start_time": "2017-06-26T20:53:55.746808Z"
    },
    "collapsed": true,
    "hidden": true
   },
   "outputs": [],
   "source": [
    "model = Sequential([\n",
    "    Embedding(vocab_size, 32, input_length=seq_len),\n",
    "    Flatten(),\n",
    "    Dense(100, activation='relu'),\n",
    "    Dropout(0.7),\n",
    "    Dense(1, activation='sigmoid')])"
   ]
  },
  {
   "cell_type": "code",
   "execution_count": 18,
   "metadata": {
    "ExecuteTime": {
     "end_time": "2017-06-26T20:53:58.440129Z",
     "start_time": "2017-06-26T20:53:58.300771Z"
    },
    "hidden": true,
    "scrolled": true
   },
   "outputs": [
    {
     "name": "stdout",
     "output_type": "stream",
     "text": [
      "____________________________________________________________________________________________________\n",
      "Layer (type)                     Output Shape          Param #     Connected to                     \n",
      "====================================================================================================\n",
      "embedding_1 (Embedding)          (None, 500, 32)       160000      embedding_input_1[0][0]          \n",
      "____________________________________________________________________________________________________\n",
      "flatten_1 (Flatten)              (None, 16000)         0           embedding_1[0][0]                \n",
      "____________________________________________________________________________________________________\n",
      "dense_1 (Dense)                  (None, 100)           1600100     flatten_1[0][0]                  \n",
      "____________________________________________________________________________________________________\n",
      "dropout_1 (Dropout)              (None, 100)           0           dense_1[0][0]                    \n",
      "____________________________________________________________________________________________________\n",
      "dense_2 (Dense)                  (None, 1)             101         dropout_1[0][0]                  \n",
      "====================================================================================================\n",
      "Total params: 1,760,201\n",
      "Trainable params: 1,760,201\n",
      "Non-trainable params: 0\n",
      "____________________________________________________________________________________________________\n"
     ]
    }
   ],
   "source": [
    "model.compile(loss='binary_crossentropy', optimizer=Adam(), metrics=['accuracy'])\n",
    "model.summary()"
   ]
  },
  {
   "cell_type": "code",
   "execution_count": 19,
   "metadata": {
    "ExecuteTime": {
     "end_time": "2017-06-26T20:54:15.034750Z",
     "start_time": "2017-06-26T20:54:08.623956Z"
    },
    "hidden": true
   },
   "outputs": [
    {
     "name": "stdout",
     "output_type": "stream",
     "text": [
      "Train on 25000 samples, validate on 25000 samples\n",
      "Epoch 1/2\n",
      "25000/25000 [==============================] - 2s - loss: 0.5320 - acc: 0.6807 - val_loss: 0.2968 - val_acc: 0.8726\n",
      "Epoch 2/2\n",
      "25000/25000 [==============================] - 2s - loss: 0.2233 - acc: 0.9152 - val_loss: 0.3010 - val_acc: 0.8757\n"
     ]
    }
   ],
   "source": [
    "set_gpu_fan_speed(90)\n",
    "model.fit(trn, labels_train, validation_data=(test, labels_test), nb_epoch=2, batch_size=64)\n",
    "set_gpu_fan_speed(0)"
   ]
  },
  {
   "cell_type": "raw",
   "metadata": {
    "hidden": true
   },
   "source": [
    "JH's result:\n",
    "Train on 25000 samples, validate on 25000 samples\n",
    "Epoch 1/2\n",
    "25000/25000 [==============================] - 1s - loss: 0.4651 - acc: 0.7495 - val_loss: 0.2830 - val_acc: 0.8804\n",
    "Epoch 2/2\n",
    "25000/25000 [==============================] - 1s - loss: 0.1969 - acc: 0.9265 - val_loss: 0.3195 - val_acc: 0.8694"
   ]
  },
  {
   "cell_type": "markdown",
   "metadata": {
    "hidden": true
   },
   "source": [
    "The [stanford paper](http://ai.stanford.edu/~amaas/papers/wvSent_acl2011.pdf) that this dataset is from cites a state of the art accuracy (without unlabelled data) of 0.883. So we're short of that, but on the right track."
   ]
  },
  {
   "cell_type": "markdown",
   "metadata": {
    "heading_collapsed": true
   },
   "source": [
    "### Single conv layer with max pooling"
   ]
  },
  {
   "cell_type": "markdown",
   "metadata": {
    "hidden": true
   },
   "source": [
    "A CNN is likely to work better, since it's designed to take advantage of ordered data. We'll need to use a 1D CNN, since a sequence of words is 1D."
   ]
  },
  {
   "cell_type": "code",
   "execution_count": 20,
   "metadata": {
    "ExecuteTime": {
     "end_time": "2017-06-26T20:54:22.482449Z",
     "start_time": "2017-06-26T20:54:22.332900Z"
    },
    "collapsed": true,
    "hidden": true
   },
   "outputs": [],
   "source": [
    "conv1 = Sequential([\n",
    "    Embedding(vocab_size, 32, input_length=seq_len, dropout=0.2),\n",
    "    Dropout(0.2),\n",
    "    Convolution1D(64, 5, border_mode='same', activation='relu'),\n",
    "    Dropout(0.2),\n",
    "    MaxPooling1D(),\n",
    "    Flatten(),\n",
    "    Dense(100, activation='relu'),\n",
    "    Dropout(0.7),\n",
    "    Dense(1, activation='sigmoid')])"
   ]
  },
  {
   "cell_type": "code",
   "execution_count": 21,
   "metadata": {
    "ExecuteTime": {
     "end_time": "2017-06-26T20:54:23.378810Z",
     "start_time": "2017-06-26T20:54:23.366854Z"
    },
    "collapsed": true,
    "hidden": true
   },
   "outputs": [],
   "source": [
    "conv1.compile(loss='binary_crossentropy', optimizer=Adam(), metrics=['accuracy'])"
   ]
  },
  {
   "cell_type": "code",
   "execution_count": 22,
   "metadata": {
    "ExecuteTime": {
     "end_time": "2017-06-26T20:55:06.926497Z",
     "start_time": "2017-06-26T20:54:25.599995Z"
    },
    "hidden": true,
    "scrolled": false
   },
   "outputs": [
    {
     "name": "stdout",
     "output_type": "stream",
     "text": [
      "Train on 25000 samples, validate on 25000 samples\n",
      "Epoch 1/4\n",
      "25000/25000 [==============================] - 8s - loss: 0.4949 - acc: 0.7320 - val_loss: 0.3057 - val_acc: 0.8719\n",
      "Epoch 2/4\n",
      "25000/25000 [==============================] - 8s - loss: 0.2976 - acc: 0.8811 - val_loss: 0.2695 - val_acc: 0.8867\n",
      "Epoch 3/4\n",
      "25000/25000 [==============================] - 8s - loss: 0.2577 - acc: 0.8978 - val_loss: 0.2588 - val_acc: 0.8941\n",
      "Epoch 4/4\n",
      "25000/25000 [==============================] - 8s - loss: 0.2378 - acc: 0.9068 - val_loss: 0.2556 - val_acc: 0.8941\n"
     ]
    }
   ],
   "source": [
    "set_gpu_fan_speed(90)\n",
    "conv1.fit(trn, labels_train, validation_data=(test, labels_test), nb_epoch=4, batch_size=64)\n",
    "set_gpu_fan_speed(0)"
   ]
  },
  {
   "cell_type": "raw",
   "metadata": {
    "hidden": true
   },
   "source": [
    "JH's result:\n",
    "Train on 25000 samples, validate on 25000 samples\n",
    "Epoch 1/4\n",
    "25000/25000 [==============================] - 4s - loss: 0.4984 - acc: 0.7250 - val_loss: 0.2922 - val_acc: 0.8816\n",
    "Epoch 2/4\n",
    "25000/25000 [==============================] - 4s - loss: 0.2971 - acc: 0.8836 - val_loss: 0.2681 - val_acc: 0.8911\n",
    "Epoch 3/4\n",
    "25000/25000 [==============================] - 4s - loss: 0.2568 - acc: 0.8983 - val_loss: 0.2551 - val_acc: 0.8947\n",
    "Epoch 4/4\n",
    "25000/25000 [==============================] - 4s - loss: 0.2427 - acc: 0.9029 - val_loss: 0.2558 - val_acc: 0.8947"
   ]
  },
  {
   "cell_type": "markdown",
   "metadata": {
    "hidden": true
   },
   "source": [
    "That's well past the Stanford paper's accuracy - another win for CNNs!"
   ]
  },
  {
   "cell_type": "code",
   "execution_count": 23,
   "metadata": {
    "ExecuteTime": {
     "end_time": "2017-06-26T20:55:12.107196Z",
     "start_time": "2017-06-26T20:55:12.039833Z"
    },
    "collapsed": true,
    "hidden": true
   },
   "outputs": [],
   "source": [
    "conv1.save_weights(model_path + 'conv1.h5')"
   ]
  },
  {
   "cell_type": "code",
   "execution_count": 32,
   "metadata": {
    "ExecuteTime": {
     "end_time": "2017-06-27T20:36:04.646375Z",
     "start_time": "2017-06-27T20:36:04.360053Z"
    },
    "collapsed": true,
    "hidden": true
   },
   "outputs": [
    {
     "ename": "NameError",
     "evalue": "name 'conv1' is not defined",
     "output_type": "error",
     "traceback": [
      "\u001b[0;31m---------------------------------------------------------------------------\u001b[0m",
      "\u001b[0;31mNameError\u001b[0m                                 Traceback (most recent call last)",
      "\u001b[0;32m<ipython-input-32-1f275b7c9b27>\u001b[0m in \u001b[0;36m<module>\u001b[0;34m()\u001b[0m\n\u001b[0;32m----> 1\u001b[0;31m \u001b[0mconv1\u001b[0m\u001b[0;34m.\u001b[0m\u001b[0mload_weights\u001b[0m\u001b[0;34m(\u001b[0m\u001b[0mmodel_path\u001b[0m \u001b[0;34m+\u001b[0m \u001b[0;34m'conv1.h5'\u001b[0m\u001b[0;34m)\u001b[0m\u001b[0;34m\u001b[0m\u001b[0m\n\u001b[0m",
      "\u001b[0;31mNameError\u001b[0m: name 'conv1' is not defined"
     ]
    }
   ],
   "source": [
    "conv1.load_weights(model_path + 'conv1.h5')"
   ]
  },
  {
   "cell_type": "markdown",
   "metadata": {},
   "source": [
    "## Pre-trained vectors"
   ]
  },
  {
   "cell_type": "markdown",
   "metadata": {},
   "source": [
    "You may want to look at wordvectors.ipynb before moving on.\n",
    "\n",
    "In this section, we replicate the previous CNN, but using <strong>pre-trained</strong> embeddings."
   ]
  },
  {
   "cell_type": "code",
   "execution_count": 104,
   "metadata": {
    "ExecuteTime": {
     "end_time": "2017-06-27T21:43:29.818370Z",
     "start_time": "2017-06-27T21:43:29.815797Z"
    },
    "collapsed": true
   },
   "outputs": [],
   "source": [
    "def load_vectors(loc):\n",
    "    return (load_array(loc+'.dat'),\n",
    "        pickle.load(open(loc+'_words.pkl','rb')),\n",
    "        pickle.load(open(loc+'_idx.pkl','rb')))"
   ]
  },
  {
   "cell_type": "code",
   "execution_count": 119,
   "metadata": {
    "ExecuteTime": {
     "end_time": "2017-06-27T21:52:55.440843Z",
     "start_time": "2017-06-27T21:52:55.135336Z"
    }
   },
   "outputs": [],
   "source": [
    "#vecs, words, wordidx = load_vectors('data/glove/results/6B.50d')  ## JH's original\n",
    "vecs, words, wordidx = load_vectors('data/glove/results/6B.100d')   ## MDR's experiment"
   ]
  },
  {
   "cell_type": "markdown",
   "metadata": {},
   "source": [
    "The glove word ids and imdb word ids use different indexes. So we create a simple function that creates an embedding matrix using the indexes from imdb, and the embeddings from glove (where they exist)."
   ]
  },
  {
   "cell_type": "code",
   "execution_count": 120,
   "metadata": {
    "ExecuteTime": {
     "end_time": "2017-06-27T21:52:56.309532Z",
     "start_time": "2017-06-27T21:52:56.300213Z"
    },
    "collapsed": true
   },
   "outputs": [],
   "source": [
    "def create_emb():\n",
    "    n_fact = vecs.shape[1]\n",
    "    emb = np.zeros((vocab_size, n_fact))\n",
    "\n",
    "    for i in range(1,len(emb)):\n",
    "        word = idx2word[i]\n",
    "        if word and re.match(r\"^[a-zA-Z0-9\\-]*$\", word):\n",
    "            src_idx = wordidx[word]\n",
    "            emb[i] = vecs[src_idx]\n",
    "        else:\n",
    "            # If we can't find the word in glove, randomly initialize\n",
    "            emb[i] = normal(scale=0.6, size=(n_fact,))\n",
    "\n",
    "    # This is our \"rare word\" id - we want to randomly initialize\n",
    "    emb[-1] = normal(scale=0.6, size=(n_fact,))\n",
    "    emb/=3\n",
    "    return emb"
   ]
  },
  {
   "cell_type": "code",
   "execution_count": 121,
   "metadata": {
    "ExecuteTime": {
     "end_time": "2017-06-27T21:52:56.791262Z",
     "start_time": "2017-06-27T21:52:56.773990Z"
    },
    "collapsed": true
   },
   "outputs": [],
   "source": [
    "emb = create_emb()"
   ]
  },
  {
   "cell_type": "markdown",
   "metadata": {},
   "source": [
    "We pass our embedding matrix to the Embedding constructor, and set it to non-trainable."
   ]
  },
  {
   "cell_type": "code",
   "execution_count": 122,
   "metadata": {
    "ExecuteTime": {
     "end_time": "2017-06-27T21:53:05.349213Z",
     "start_time": "2017-06-27T21:53:05.172166Z"
    },
    "collapsed": true
   },
   "outputs": [],
   "source": [
    "model = Sequential([\n",
    "    #Embedding(vocab_size, 50, \n",
    "    Embedding(vocab_size, 100, \n",
    "              input_length=seq_len, dropout=0.2, weights=[emb], trainable=False),\n",
    "    Dropout(0.25),   ## JH (0.25)\n",
    "    Convolution1D(64, 5, border_mode='same', activation='relu'),\n",
    "    Dropout(0.25),   ## JH (0.25)\n",
    "    MaxPooling1D(),\n",
    "    Flatten(),\n",
    "    Dense(100, activation='relu'),\n",
    "    Dropout(0.3),    ## JH (0.7)\n",
    "    Dense(1, activation='sigmoid')])"
   ]
  },
  {
   "cell_type": "code",
   "execution_count": 123,
   "metadata": {
    "ExecuteTime": {
     "end_time": "2017-06-27T21:53:06.439113Z",
     "start_time": "2017-06-27T21:53:06.427094Z"
    },
    "collapsed": true
   },
   "outputs": [],
   "source": [
    "model.compile(loss='binary_crossentropy', optimizer=Adam(), metrics=['accuracy'])"
   ]
  },
  {
   "cell_type": "markdown",
   "metadata": {},
   "source": [
    "I get better results with the 100d embedding than I do with the 50d embedding, after 4 epochs. - MDR"
   ]
  },
  {
   "cell_type": "code",
   "execution_count": 124,
   "metadata": {
    "ExecuteTime": {
     "end_time": "2017-06-27T21:53:53.246889Z",
     "start_time": "2017-06-27T21:53:18.477268Z"
    },
    "scrolled": true
   },
   "outputs": [
    {
     "name": "stdout",
     "output_type": "stream",
     "text": [
      "Train on 25000 samples, validate on 25000 samples\n",
      "Epoch 1/4\n",
      "25000/25000 [==============================] - 8s - loss: 0.5658 - acc: 0.6951 - val_loss: 0.4579 - val_acc: 0.7869\n",
      "Epoch 2/4\n",
      "25000/25000 [==============================] - 7s - loss: 0.4530 - acc: 0.7906 - val_loss: 0.4927 - val_acc: 0.7446\n",
      "Epoch 3/4\n",
      "25000/25000 [==============================] - 7s - loss: 0.4276 - acc: 0.8032 - val_loss: 0.3745 - val_acc: 0.8446\n",
      "Epoch 4/4\n",
      "25000/25000 [==============================] - 7s - loss: 0.4013 - acc: 0.8186 - val_loss: 0.3630 - val_acc: 0.8491\n"
     ]
    }
   ],
   "source": [
    "# model.optimizer.lr = 1e-3  ## MDR: added to the 50d for marginally faster training than I was getting\n",
    "set_gpu_fan_speed(90)\n",
    "model.fit(trn, labels_train, validation_data=(test, labels_test), nb_epoch=4, batch_size=64)\n",
    "set_gpu_fan_speed(0)\n",
    "model.save_weights(model_path+'glove100_wt1.h5')  ## care, with the weight count!"
   ]
  },
  {
   "cell_type": "raw",
   "metadata": {},
   "source": [
    "MDR's result (50d embedding):\n",
    "Train on 25000 samples, validate on 25000 samples\n",
    "Epoch 1/4\n",
    "25000/25000 [==============================] - 8s - loss: 0.5619 - acc: 0.7015 - val_loss: 0.4735 - val_acc: 0.7981\n",
    "Epoch 2/4\n",
    "25000/25000 [==============================] - 8s - loss: 0.4817 - acc: 0.7703 - val_loss: 0.4583 - val_acc: 0.7811\n",
    "Epoch 3/4\n",
    "25000/25000 [==============================] - 8s - loss: 0.4535 - acc: 0.7903 - val_loss: 0.4082 - val_acc: 0.8293\n",
    "Epoch 4/4\n",
    "25000/25000 [==============================] - 8s - loss: 0.4331 - acc: 0.7967 - val_loss: 0.4409 - val_acc: 0.8093"
   ]
  },
  {
   "cell_type": "raw",
   "metadata": {},
   "source": [
    "JH's result (50d embedding?):\n",
    "Train on 25000 samples, validate on 25000 samples\n",
    "Epoch 1/2\n",
    "25000/25000 [==============================] - 4s - loss: 0.5217 - acc: 0.7172 - val_loss: 0.2942 - val_acc: 0.8815\n",
    "Epoch 2/2\n",
    "25000/25000 [==============================] - 4s - loss: 0.3169 - acc: 0.8719 - val_loss: 0.2662 - val_acc: 0.8978"
   ]
  },
  {
   "cell_type": "code",
   "execution_count": 70,
   "metadata": {
    "ExecuteTime": {
     "end_time": "2017-06-27T20:49:43.830482Z",
     "start_time": "2017-06-27T20:49:43.818089Z"
    },
    "collapsed": true
   },
   "outputs": [],
   "source": [
    "model.load_weights(model_path+'glove50_wt1.h5')"
   ]
  },
  {
   "cell_type": "code",
   "execution_count": 129,
   "metadata": {
    "ExecuteTime": {
     "end_time": "2017-06-27T21:58:48.232160Z",
     "start_time": "2017-06-27T21:58:48.210481Z"
    },
    "collapsed": true
   },
   "outputs": [],
   "source": [
    "model.load_weights(model_path+'glove100_wt1.h5')"
   ]
  },
  {
   "cell_type": "markdown",
   "metadata": {},
   "source": [
    "MDR: so my initial results were nowhere near as good, but we're not overfitting yet."
   ]
  },
  {
   "cell_type": "markdown",
   "metadata": {},
   "source": [
    "MDR: my results are nowhere near JH's! [] Investigate this!"
   ]
  },
  {
   "cell_type": "markdown",
   "metadata": {},
   "source": [
    "We already have beaten our previous model! But let's fine-tune the embedding weights - especially since the words we couldn't find in glove just have random embeddings."
   ]
  },
  {
   "cell_type": "code",
   "execution_count": 126,
   "metadata": {
    "ExecuteTime": {
     "end_time": "2017-06-27T21:57:25.146194Z",
     "start_time": "2017-06-27T21:57:25.142735Z"
    },
    "collapsed": true
   },
   "outputs": [],
   "source": [
    "model.layers[0].trainable=True"
   ]
  },
  {
   "cell_type": "code",
   "execution_count": 127,
   "metadata": {
    "ExecuteTime": {
     "end_time": "2017-06-27T21:57:28.568235Z",
     "start_time": "2017-06-27T21:57:28.562411Z"
    },
    "collapsed": true
   },
   "outputs": [],
   "source": [
    "model.optimizer.lr=1e-4"
   ]
  },
  {
   "cell_type": "code",
   "execution_count": 128,
   "metadata": {
    "ExecuteTime": {
     "end_time": "2017-06-27T21:58:11.358229Z",
     "start_time": "2017-06-27T21:57:39.403029Z"
    },
    "scrolled": true
   },
   "outputs": [
    {
     "name": "stdout",
     "output_type": "stream",
     "text": [
      "Train on 25000 samples, validate on 25000 samples\n",
      "Epoch 1/4\n",
      "25000/25000 [==============================] - 8s - loss: 0.3819 - acc: 0.8287 - val_loss: 0.3785 - val_acc: 0.8316\n",
      "Epoch 2/4\n",
      "25000/25000 [==============================] - 7s - loss: 0.3709 - acc: 0.8315 - val_loss: 0.3816 - val_acc: 0.8361\n",
      "Epoch 3/4\n",
      "25000/25000 [==============================] - 7s - loss: 0.3541 - acc: 0.8413 - val_loss: 0.3516 - val_acc: 0.8484\n",
      "Epoch 4/4\n",
      "25000/25000 [==============================] - 7s - loss: 0.3400 - acc: 0.8511 - val_loss: 0.3947 - val_acc: 0.8204\n"
     ]
    },
    {
     "data": {
      "text/plain": [
       "<keras.callbacks.History at 0x7f36ee1a8d30>"
      ]
     },
     "execution_count": 128,
     "metadata": {},
     "output_type": "execute_result"
    }
   ],
   "source": [
    "model.fit(trn, labels_train, validation_data=(test, labels_test), nb_epoch=4, batch_size=64)"
   ]
  },
  {
   "cell_type": "raw",
   "metadata": {},
   "source": [
    "MDR result (50d embedding)\n",
    "Train on 25000 samples, validate on 25000 samples\n",
    "Epoch 1/4\n",
    "25000/25000 [==============================] - 8s - loss: 0.3990 - acc: 0.8183 - val_loss: 0.3893 - val_acc: 0.8295\n",
    "Epoch 2/4\n",
    "25000/25000 [==============================] - 8s - loss: 0.3947 - acc: 0.8213 - val_loss: 0.4191 - val_acc: 0.8040\n",
    "Epoch 3/4\n",
    "25000/25000 [==============================] - 8s - loss: 0.3746 - acc: 0.8301 - val_loss: 0.3859 - val_acc: 0.8282\n",
    "Epoch 4/4\n",
    "25000/25000 [==============================] - 8s - loss: 0.3680 - acc: 0.8343 - val_loss: 0.3931 - val_acc: 0.8174"
   ]
  },
  {
   "cell_type": "markdown",
   "metadata": {},
   "source": [
    "\"As expected, that's given us a nice little boost. :)\" - \n",
    "MDR: actually made it worse! For both 50d and 100d cases!"
   ]
  },
  {
   "cell_type": "code",
   "execution_count": 75,
   "metadata": {
    "ExecuteTime": {
     "end_time": "2017-06-27T20:51:16.431166Z",
     "start_time": "2017-06-27T20:51:16.410766Z"
    },
    "collapsed": true
   },
   "outputs": [],
   "source": [
    "model.save_weights(model_path+'glove50.h5')"
   ]
  },
  {
   "cell_type": "markdown",
   "metadata": {},
   "source": [
    "## Multi-size CNN"
   ]
  },
  {
   "cell_type": "markdown",
   "metadata": {},
   "source": [
    "This is an implementation of a multi-size CNN as shown in Ben Bowles' [excellent blog post](https://quid.com/feed/how-quid-uses-deep-learning-with-small-data)."
   ]
  },
  {
   "cell_type": "code",
   "execution_count": 130,
   "metadata": {
    "ExecuteTime": {
     "end_time": "2017-06-27T21:58:59.831106Z",
     "start_time": "2017-06-27T21:58:59.825574Z"
    },
    "collapsed": true
   },
   "outputs": [],
   "source": [
    "from keras.layers import Merge"
   ]
  },
  {
   "cell_type": "markdown",
   "metadata": {},
   "source": [
    "We use the functional API to create multiple conv layers of different sizes, and then concatenate them."
   ]
  },
  {
   "cell_type": "code",
   "execution_count": 136,
   "metadata": {
    "ExecuteTime": {
     "end_time": "2017-06-27T22:02:06.688609Z",
     "start_time": "2017-06-27T22:02:06.597988Z"
    },
    "collapsed": true
   },
   "outputs": [],
   "source": [
    "#graph_in = Input ((vocab_size, 50))\n",
    "graph_in = Input ((vocab_size, 100))  ## MDR - for 100d embedding\n",
    "convs = [ ] \n",
    "for fsz in range (3, 6): \n",
    "    x = Convolution1D(64, fsz, border_mode='same', activation=\"relu\")(graph_in)\n",
    "    x = MaxPooling1D()(x) \n",
    "    x = Flatten()(x) \n",
    "    convs.append(x)\n",
    "out = Merge(mode=\"concat\")(convs) \n",
    "graph = Model(graph_in, out) "
   ]
  },
  {
   "cell_type": "code",
   "execution_count": 137,
   "metadata": {
    "ExecuteTime": {
     "end_time": "2017-06-27T22:02:07.382958Z",
     "start_time": "2017-06-27T22:02:07.364930Z"
    },
    "collapsed": true
   },
   "outputs": [],
   "source": [
    "emb = create_emb()"
   ]
  },
  {
   "cell_type": "markdown",
   "metadata": {},
   "source": [
    "We then replace the conv/max-pool layer in our original CNN with the concatenated conv layers."
   ]
  },
  {
   "cell_type": "code",
   "execution_count": 138,
   "metadata": {
    "ExecuteTime": {
     "end_time": "2017-06-27T22:02:08.861312Z",
     "start_time": "2017-06-27T22:02:08.614651Z"
    },
    "collapsed": true
   },
   "outputs": [],
   "source": [
    "model = Sequential ([\n",
    "    #Embedding(vocab_size, 50, \n",
    "    Embedding(vocab_size, 100, \n",
    "              input_length=seq_len, dropout=0.2, weights=[emb]),\n",
    "    Dropout (0.2),\n",
    "    graph,\n",
    "    Dropout (0.5),\n",
    "    Dense (100, activation=\"relu\"),\n",
    "    Dropout (0.7),\n",
    "    Dense (1, activation='sigmoid')\n",
    "    ])"
   ]
  },
  {
   "cell_type": "code",
   "execution_count": 139,
   "metadata": {
    "ExecuteTime": {
     "end_time": "2017-06-27T22:02:09.574814Z",
     "start_time": "2017-06-27T22:02:09.559120Z"
    },
    "collapsed": true
   },
   "outputs": [],
   "source": [
    "model.compile(loss='binary_crossentropy', optimizer=Adam(), metrics=['accuracy'])"
   ]
  },
  {
   "cell_type": "markdown",
   "metadata": {},
   "source": [
    "MDR: it turns out that there's no improvement, in this expt, for using the 100d embedding over the 50d."
   ]
  },
  {
   "cell_type": "code",
   "execution_count": 140,
   "metadata": {
    "ExecuteTime": {
     "end_time": "2017-06-27T22:03:02.590511Z",
     "start_time": "2017-06-27T22:02:13.009457Z"
    },
    "scrolled": false
   },
   "outputs": [
    {
     "name": "stdout",
     "output_type": "stream",
     "text": [
      "Train on 25000 samples, validate on 25000 samples\n",
      "Epoch 1/2\n",
      "25000/25000 [==============================] - 22s - loss: 0.5049 - acc: 0.7261 - val_loss: 0.2961 - val_acc: 0.8833\n",
      "Epoch 2/2\n",
      "25000/25000 [==============================] - 22s - loss: 0.3106 - acc: 0.8742 - val_loss: 0.2761 - val_acc: 0.8838\n"
     ]
    }
   ],
   "source": [
    "set_gpu_fan_speed(90)\n",
    "model.fit(trn, labels_train, validation_data=(test, labels_test), nb_epoch=2, batch_size=64)\n",
    "set_gpu_fan_speed(0)"
   ]
  },
  {
   "cell_type": "raw",
   "metadata": {},
   "source": [
    "MDR's results (50d):\n",
    "Train on 25000 samples, validate on 25000 samples\n",
    "Epoch 1/2\n",
    "25000/25000 [==============================] - 18s - loss: 0.4930 - acc: 0.7455 - val_loss: 0.3141 - val_acc: 0.8803\n",
    "Epoch 2/2\n",
    "25000/25000 [==============================] - 18s - loss: 0.3153 - acc: 0.8732 - val_loss: 0.2724 - val_acc: 0.8936"
   ]
  },
  {
   "cell_type": "raw",
   "metadata": {},
   "source": [
    "JH's results (50d?):\n",
    "Train on 25000 samples, validate on 25000 samples\n",
    "Epoch 1/2\n",
    "25000/25000 [==============================] - 11s - loss: 0.3997 - acc: 0.8207 - val_loss: 0.3032 - val_acc: 0.8943\n",
    "Epoch 2/2\n",
    "25000/25000 [==============================] - 11s - loss: 0.2882 - acc: 0.8832 - val_loss: 0.2646 - val_acc: 0.9029"
   ]
  },
  {
   "cell_type": "markdown",
   "metadata": {},
   "source": [
    "Interestingly, I found that in this case I got best results when I started the embedding layer as being trainable, and then set it to non-trainable after a couple of epochs. I have no idea why!\n",
    "\n",
    "MDR: (does it limit overfitting, maybe?) ... anyway, my running of the same code achieved nearly the same results, so much happier."
   ]
  },
  {
   "cell_type": "code",
   "execution_count": 82,
   "metadata": {
    "ExecuteTime": {
     "end_time": "2017-06-27T20:55:16.761928Z",
     "start_time": "2017-06-27T20:55:16.719021Z"
    },
    "collapsed": true
   },
   "outputs": [],
   "source": [
    "model.save_weights(model_path+'glove50_conv2_wt1.h5')"
   ]
  },
  {
   "cell_type": "code",
   "execution_count": 88,
   "metadata": {
    "ExecuteTime": {
     "end_time": "2017-06-27T20:58:24.735108Z",
     "start_time": "2017-06-27T20:58:24.720123Z"
    },
    "collapsed": true
   },
   "outputs": [],
   "source": [
    "model.load_weights(model_path+'glove50_conv2_wt1.h5')"
   ]
  },
  {
   "cell_type": "markdown",
   "metadata": {},
   "source": [
    "MDR: I want to test this statement from JH, above, by running another couple of epochs. First let's reduce the LR."
   ]
  },
  {
   "cell_type": "code",
   "execution_count": 89,
   "metadata": {
    "ExecuteTime": {
     "end_time": "2017-06-27T20:58:25.876884Z",
     "start_time": "2017-06-27T20:58:25.871280Z"
    }
   },
   "outputs": [],
   "source": [
    "model.optimizer.lr = 1e-5"
   ]
  },
  {
   "cell_type": "code",
   "execution_count": 90,
   "metadata": {
    "ExecuteTime": {
     "end_time": "2017-06-27T20:59:03.169373Z",
     "start_time": "2017-06-27T20:58:26.403414Z"
    }
   },
   "outputs": [
    {
     "name": "stdout",
     "output_type": "stream",
     "text": [
      "Train on 25000 samples, validate on 25000 samples\n",
      "Epoch 1/2\n",
      "25000/25000 [==============================] - 18s - loss: 0.2815 - acc: 0.8887 - val_loss: 0.2644 - val_acc: 0.8961\n",
      "Epoch 2/2\n",
      "25000/25000 [==============================] - 17s - loss: 0.2622 - acc: 0.8949 - val_loss: 0.2681 - val_acc: 0.8893\n"
     ]
    }
   ],
   "source": [
    "set_gpu_fan_speed(90)\n",
    "model.fit(trn, labels_train, validation_data=(test, labels_test), nb_epoch=2, batch_size=64)\n",
    "set_gpu_fan_speed(0)"
   ]
  },
  {
   "cell_type": "markdown",
   "metadata": {},
   "source": [
    "Okay, so that didn't help. Reload the weights from before."
   ]
  },
  {
   "cell_type": "code",
   "execution_count": 95,
   "metadata": {
    "ExecuteTime": {
     "end_time": "2017-06-27T21:01:28.858732Z",
     "start_time": "2017-06-27T21:01:28.824671Z"
    },
    "collapsed": true
   },
   "outputs": [],
   "source": [
    "model.load_weights(model_path+'glove50_conv2_wt1.h5')"
   ]
  },
  {
   "cell_type": "markdown",
   "metadata": {},
   "source": [
    "MDR: following JH's plan, from this point."
   ]
  },
  {
   "cell_type": "code",
   "execution_count": 96,
   "metadata": {
    "ExecuteTime": {
     "end_time": "2017-06-27T21:01:30.328857Z",
     "start_time": "2017-06-27T21:01:30.323085Z"
    },
    "collapsed": true
   },
   "outputs": [],
   "source": [
    "model.layers[0].trainable=False"
   ]
  },
  {
   "cell_type": "code",
   "execution_count": 97,
   "metadata": {
    "ExecuteTime": {
     "end_time": "2017-06-27T21:01:31.145448Z",
     "start_time": "2017-06-27T21:01:31.140511Z"
    },
    "collapsed": true
   },
   "outputs": [],
   "source": [
    "model.optimizer.lr=1e-5"
   ]
  },
  {
   "cell_type": "code",
   "execution_count": 98,
   "metadata": {
    "ExecuteTime": {
     "end_time": "2017-06-27T21:02:49.410601Z",
     "start_time": "2017-06-27T21:01:36.916524Z"
    },
    "scrolled": true
   },
   "outputs": [
    {
     "name": "stdout",
     "output_type": "stream",
     "text": [
      "Train on 25000 samples, validate on 25000 samples\n",
      "Epoch 1/4\n",
      "25000/25000 [==============================] - 17s - loss: 0.2802 - acc: 0.8879 - val_loss: 0.2646 - val_acc: 0.8928\n",
      "Epoch 2/4\n",
      "25000/25000 [==============================] - 18s - loss: 0.2593 - acc: 0.8984 - val_loss: 0.2579 - val_acc: 0.8976\n",
      "Epoch 3/4\n",
      "25000/25000 [==============================] - 18s - loss: 0.2480 - acc: 0.8998 - val_loss: 0.2541 - val_acc: 0.8960\n",
      "Epoch 4/4\n",
      "25000/25000 [==============================] - 17s - loss: 0.2350 - acc: 0.9072 - val_loss: 0.2550 - val_acc: 0.8965\n"
     ]
    },
    {
     "data": {
      "text/plain": [
       "<keras.callbacks.History at 0x7f370f2f65f8>"
      ]
     },
     "execution_count": 98,
     "metadata": {},
     "output_type": "execute_result"
    }
   ],
   "source": [
    "set_gpu_fan_speed(90)\n",
    "model.fit(trn, labels_train, validation_data=(test, labels_test), nb_epoch=4, batch_size=64)\n",
    "set_gpu_fan_speed(0)"
   ]
  },
  {
   "cell_type": "markdown",
   "metadata": {},
   "source": [
    "This more complex architecture has given us another boost in accuracy.\n",
    "\n",
    "MDR: although I didn't see a huge advantage, personally."
   ]
  },
  {
   "cell_type": "markdown",
   "metadata": {},
   "source": [
    "## LSTM"
   ]
  },
  {
   "cell_type": "markdown",
   "metadata": {},
   "source": [
    "We haven't covered this bit yet!"
   ]
  },
  {
   "cell_type": "markdown",
   "metadata": {},
   "source": [
    "MDR: so, there's no preloaded embedding, here - it's a fresh, random set?"
   ]
  },
  {
   "cell_type": "code",
   "execution_count": null,
   "metadata": {
    "collapsed": true
   },
   "outputs": [],
   "source": [
    "model = Sequential([\n",
    "    Embedding(vocab_size, 32, input_length=seq_len, mask_zero=True,\n",
    "              W_regularizer=l2(1e-6), dropout=0.2),\n",
    "    LSTM(100, consume_less='gpu'),\n",
    "    Dense(1, activation='sigmoid')])\n",
    "model.compile(loss='binary_crossentropy', optimizer='adam', metrics=['accuracy'])\n",
    "model.summary()"
   ]
  },
  {
   "cell_type": "raw",
   "metadata": {},
   "source": [
    "JH's result:\n",
    "____________________________________________________________________________________________________\n",
    "Layer (type)                     Output Shape          Param #     Connected to                     \n",
    "====================================================================================================\n",
    "embedding_13 (Embedding)         (None, 500, 32)       160064      embedding_input_13[0][0]         \n",
    "____________________________________________________________________________________________________\n",
    "lstm_13 (LSTM)                   (None, 100)           53200       embedding_13[0][0]               \n",
    "____________________________________________________________________________________________________\n",
    "dense_18 (Dense)                 (None, 1)             101         lstm_13[0][0]                    \n",
    "====================================================================================================\n",
    "Total params: 213365\n",
    "____________________________________________________________________________________________________\n"
   ]
  },
  {
   "cell_type": "markdown",
   "metadata": {},
   "source": [
    "MDR: hang on! These summary() outputs look quite different, to me! Not least that this is apparently the 13th lstm he's produced (in this session?) - and yet I've fot a higher numbered dense layer than him. Eh?\n",
    "\n",
    "But then I reach better results in fewer epochs than he does, this time around. Compare the times, and the more stable convergence in my results. Weird. Still, that's my first LSTM!!"
   ]
  },
  {
   "cell_type": "code",
   "execution_count": 100,
   "metadata": {
    "ExecuteTime": {
     "end_time": "2017-06-27T21:14:45.761301Z",
     "start_time": "2017-06-27T21:06:29.330705Z"
    },
    "scrolled": false
   },
   "outputs": [
    {
     "name": "stdout",
     "output_type": "stream",
     "text": [
      "Train on 25000 samples, validate on 25000 samples\n",
      "Epoch 1/5\n",
      "25000/25000 [==============================] - 82s - loss: 0.5113 - acc: 0.7419 - val_loss: 0.5116 - val_acc: 0.7670\n",
      "Epoch 2/5\n",
      "25000/25000 [==============================] - 83s - loss: 0.3604 - acc: 0.8495 - val_loss: 0.4464 - val_acc: 0.8411\n",
      "Epoch 3/5\n",
      "25000/25000 [==============================] - 82s - loss: 0.3048 - acc: 0.8774 - val_loss: 0.3181 - val_acc: 0.8662\n",
      "Epoch 4/5\n",
      "25000/25000 [==============================] - 83s - loss: 0.2825 - acc: 0.8858 - val_loss: 0.2985 - val_acc: 0.8759\n",
      "Epoch 5/5\n",
      "25000/25000 [==============================] - 83s - loss: 0.2588 - acc: 0.8964 - val_loss: 0.2927 - val_acc: 0.8795\n"
     ]
    }
   ],
   "source": [
    "set_gpu_fan_speed(90)\n",
    "model.fit(trn, labels_train, validation_data=(test, labels_test), nb_epoch=5, batch_size=64)\n",
    "set_gpu_fan_speed(0)"
   ]
  },
  {
   "cell_type": "raw",
   "metadata": {
    "collapsed": true
   },
   "source": [
    "JH's result:\n",
    "Train on 25000 samples, validate on 25000 samples\n",
    "Epoch 1/5\n",
    "25000/25000 [==============================] - 100s - loss: 0.5007 - acc: 0.7446 - val_loss: 0.3475 - val_acc: 0.8531\n",
    "Epoch 2/5\n",
    "25000/25000 [==============================] - 100s - loss: 0.3524 - acc: 0.8507 - val_loss: 0.3602 - val_acc: 0.8453\n",
    "Epoch 3/5\n",
    "25000/25000 [==============================] - 99s - loss: 0.3750 - acc: 0.8342 - val_loss: 0.4758 - val_acc: 0.7710\n",
    "Epoch 4/5\n",
    "25000/25000 [==============================] - 99s - loss: 0.3238 - acc: 0.8652 - val_loss: 0.3094 - val_acc: 0.8725\n",
    "Epoch 5/5\n",
    "25000/25000 [==============================] - 99s - loss: 0.2681 - acc: 0.8920 - val_loss: 0.3018 - val_acc: 0.8776"
   ]
  },
  {
   "cell_type": "code",
   "execution_count": 101,
   "metadata": {
    "ExecuteTime": {
     "end_time": "2017-06-27T21:16:06.054276Z",
     "start_time": "2017-06-27T21:16:06.045783Z"
    },
    "collapsed": true
   },
   "outputs": [],
   "source": [
    "model.save_weights(model_path+'glove50_lstm1_wt1.h5')"
   ]
  },
  {
   "cell_type": "markdown",
   "metadata": {},
   "source": [
    "MDR: let's see if it's possible to improve on that."
   ]
  },
  {
   "cell_type": "code",
   "execution_count": 102,
   "metadata": {
    "ExecuteTime": {
     "end_time": "2017-06-27T21:24:25.734066Z",
     "start_time": "2017-06-27T21:17:29.269083Z"
    }
   },
   "outputs": [
    {
     "name": "stdout",
     "output_type": "stream",
     "text": [
      "Train on 25000 samples, validate on 25000 samples\n",
      "Epoch 1/5\n",
      "25000/25000 [==============================] - 82s - loss: 0.2439 - acc: 0.9009 - val_loss: 0.3326 - val_acc: 0.8594\n",
      "Epoch 2/5\n",
      "25000/25000 [==============================] - 82s - loss: 0.2322 - acc: 0.9080 - val_loss: 0.3005 - val_acc: 0.8785\n",
      "Epoch 3/5\n",
      "25000/25000 [==============================] - 84s - loss: 0.2064 - acc: 0.9188 - val_loss: 0.3347 - val_acc: 0.8700\n",
      "Epoch 4/5\n",
      "25000/25000 [==============================] - 83s - loss: 0.2020 - acc: 0.9184 - val_loss: 0.3178 - val_acc: 0.8694\n",
      "Epoch 5/5\n",
      "25000/25000 [==============================] - 83s - loss: 0.1983 - acc: 0.9221 - val_loss: 0.3009 - val_acc: 0.8744\n"
     ]
    },
    {
     "data": {
      "text/plain": [
       "<keras.callbacks.History at 0x7f370fa32048>"
      ]
     },
     "execution_count": 102,
     "metadata": {},
     "output_type": "execute_result"
    }
   ],
   "source": [
    "model.optimizer.lr = 1e-5\n",
    "model.fit(trn, labels_train, validation_data=(test, labels_test), nb_epoch=5, batch_size=64)"
   ]
  },
  {
   "cell_type": "markdown",
   "metadata": {},
   "source": [
    "MDR: Conclusion: that may be all that's achievable with this dataset, of course. It's sentiment, after all! "
   ]
  },
  {
   "cell_type": "markdown",
   "metadata": {},
   "source": [
    "## MDR's lstm + preloaded embeddings"
   ]
  },
  {
   "cell_type": "markdown",
   "metadata": {},
   "source": [
    "God knows whether this will work. Let's see if I can create an LSTM layer on top of pretrained embeddings..."
   ]
  },
  {
   "cell_type": "code",
   "execution_count": 150,
   "metadata": {
    "ExecuteTime": {
     "end_time": "2017-06-27T22:21:34.976964Z",
     "start_time": "2017-06-27T22:21:34.901177Z"
    },
    "collapsed": true
   },
   "outputs": [],
   "source": [
    "model2 = Sequential([\n",
    "    Embedding(vocab_size, 100, input_length = seq_len,\n",
    "             #mask_zero=True, W_regularizer=l2(1e-6), ## used in lstm above - not needed?\n",
    "              dropout=0.2, weights=[emb], trainable = False),\n",
    "    LSTM(100, consume_less = 'gpu'),\n",
    "    Dense(100, activation = 'sigmoid')\n",
    "])"
   ]
  },
  {
   "cell_type": "code",
   "execution_count": 151,
   "metadata": {
    "ExecuteTime": {
     "end_time": "2017-06-27T22:21:39.618058Z",
     "start_time": "2017-06-27T22:21:39.478659Z"
    }
   },
   "outputs": [
    {
     "name": "stdout",
     "output_type": "stream",
     "text": [
      "____________________________________________________________________________________________________\n",
      "Layer (type)                     Output Shape          Param #     Connected to                     \n",
      "====================================================================================================\n",
      "embedding_22 (Embedding)         (None, 500, 100)      500000      embedding_input_22[0][0]         \n",
      "____________________________________________________________________________________________________\n",
      "lstm_4 (LSTM)                    (None, 100)           80400       embedding_22[0][0]               \n",
      "____________________________________________________________________________________________________\n",
      "dense_40 (Dense)                 (None, 100)           10100       lstm_4[0][0]                     \n",
      "====================================================================================================\n",
      "Total params: 590,500\n",
      "Trainable params: 90,500\n",
      "Non-trainable params: 500,000\n",
      "____________________________________________________________________________________________________\n"
     ]
    }
   ],
   "source": [
    "model2.summary()"
   ]
  },
  {
   "cell_type": "code",
   "execution_count": 152,
   "metadata": {
    "ExecuteTime": {
     "end_time": "2017-06-27T22:21:48.074841Z",
     "start_time": "2017-06-27T22:21:48.037106Z"
    },
    "collapsed": true
   },
   "outputs": [],
   "source": [
    "model2.compile(loss = 'binary_crossentropy', optimizer = 'adam', metrics = ['accuracy'])"
   ]
  },
  {
   "cell_type": "code",
   "execution_count": 153,
   "metadata": {
    "ExecuteTime": {
     "end_time": "2017-06-27T22:23:39.790314Z",
     "start_time": "2017-06-27T22:22:13.740536Z"
    }
   },
   "outputs": [
    {
     "name": "stdout",
     "output_type": "stream",
     "text": [
      "Train on 25000 samples, validate on 25000 samples\n",
      "Epoch 1/4\n",
      "25000/25000 [==============================] - 21s - loss: 0.2042 - acc: 0.9190 - val_loss: 0.2563 - val_acc: 0.8962\n",
      "Epoch 2/4\n",
      "25000/25000 [==============================] - 21s - loss: 0.2022 - acc: 0.9200 - val_loss: 0.2583 - val_acc: 0.8943\n",
      "Epoch 3/4\n",
      "25000/25000 [==============================] - 21s - loss: 0.1895 - acc: 0.9257 - val_loss: 0.2540 - val_acc: 0.8965\n",
      "Epoch 4/4\n",
      "25000/25000 [==============================] - 21s - loss: 0.1796 - acc: 0.9276 - val_loss: 0.2564 - val_acc: 0.8958\n"
     ]
    }
   ],
   "source": [
    "set_gpu_fan_speed(90)\n",
    "model.fit(trn, labels_train, validation_data=(test, labels_test), nb_epoch=4, batch_size=64)\n",
    "set_gpu_fan_speed(0)"
   ]
  },
  {
   "cell_type": "markdown",
   "metadata": {
    "ExecuteTime": {
     "end_time": "2017-06-27T22:21:22.610842Z",
     "start_time": "2017-06-27T22:21:22.606357Z"
    }
   },
   "source": [
    "MDR: OMFG. It needs one epoch to be 90% accurate."
   ]
  },
  {
   "cell_type": "code",
   "execution_count": null,
   "metadata": {
    "collapsed": true
   },
   "outputs": [],
   "source": []
  }
 ],
 "metadata": {
  "anaconda-cloud": {},
  "kernelspec": {
   "display_name": "Python 3",
   "language": "python",
   "name": "python3"
  },
  "language_info": {
   "codemirror_mode": {
    "name": "ipython",
    "version": 3
   },
   "file_extension": ".py",
   "mimetype": "text/x-python",
   "name": "python",
   "nbconvert_exporter": "python",
   "pygments_lexer": "ipython3",
   "version": "3.5.2"
  },
  "toc": {
   "colors": {
    "hover_highlight": "#DAA520",
    "running_highlight": "#FF0000",
    "selected_highlight": "#FFD700"
   },
   "moveMenuLeft": true,
   "nav_menu": {
    "height": "142px",
    "width": "252px"
   },
   "navigate_menu": true,
   "number_sections": true,
   "sideBar": true,
   "threshold": 4,
   "toc_cell": false,
   "toc_section_display": "block",
   "toc_window_display": false,
   "widenNotebook": false
  }
 },
 "nbformat": 4,
 "nbformat_minor": 1
}
